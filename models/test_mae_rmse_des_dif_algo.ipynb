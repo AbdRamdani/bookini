{
  "nbformat": 4,
  "nbformat_minor": 0,
  "metadata": {
    "colab": {
      "name": "test-mae-rmse-des-dif-algo.ipynb",
      "provenance": []
    },
    "kernelspec": {
      "display_name": "Python 3",
      "name": "python3"
    },
    "language_info": {
      "name": "python"
    }
  },
  "cells": [
    {
      "cell_type": "code",
      "metadata": {
        "id": "OuDfxG2Ls-UX"
      },
      "source": [
        "#ici je vais teste les resultat des difs algo pour voir la dif afin de choisir la meilleur pour notre dataset\n",
        "#dapres les resultat svd est la meilleure methode "
      ],
      "execution_count": null,
      "outputs": []
    },
    {
      "cell_type": "code",
      "metadata": {
        "colab": {
          "base_uri": "https://localhost:8080/"
        },
        "id": "lxN4PWsBUL7D",
        "outputId": "75ab20cb-59be-450f-a81e-66b7b1f867a9"
      },
      "source": [
        "!pip install kaggle"
      ],
      "execution_count": null,
      "outputs": [
        {
          "output_type": "stream",
          "text": [
            "Requirement already satisfied: kaggle in /usr/local/lib/python3.7/dist-packages (1.5.12)\n",
            "Requirement already satisfied: urllib3 in /usr/local/lib/python3.7/dist-packages (from kaggle) (1.24.3)\n",
            "Requirement already satisfied: six>=1.10 in /usr/local/lib/python3.7/dist-packages (from kaggle) (1.15.0)\n",
            "Requirement already satisfied: python-dateutil in /usr/local/lib/python3.7/dist-packages (from kaggle) (2.8.1)\n",
            "Requirement already satisfied: tqdm in /usr/local/lib/python3.7/dist-packages (from kaggle) (4.41.1)\n",
            "Requirement already satisfied: certifi in /usr/local/lib/python3.7/dist-packages (from kaggle) (2020.12.5)\n",
            "Requirement already satisfied: requests in /usr/local/lib/python3.7/dist-packages (from kaggle) (2.23.0)\n",
            "Requirement already satisfied: python-slugify in /usr/local/lib/python3.7/dist-packages (from kaggle) (5.0.2)\n",
            "Requirement already satisfied: idna<3,>=2.5 in /usr/local/lib/python3.7/dist-packages (from requests->kaggle) (2.10)\n",
            "Requirement already satisfied: chardet<4,>=3.0.2 in /usr/local/lib/python3.7/dist-packages (from requests->kaggle) (3.0.4)\n",
            "Requirement already satisfied: text-unidecode>=1.3 in /usr/local/lib/python3.7/dist-packages (from python-slugify->kaggle) (1.3)\n"
          ],
          "name": "stdout"
        }
      ]
    },
    {
      "cell_type": "code",
      "metadata": {
        "colab": {
          "resources": {
            "http://localhost:8080/nbextensions/google.colab/files.js": {
              "data": "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",
              "ok": true,
              "headers": [
                [
                  "content-type",
                  "application/javascript"
                ]
              ],
              "status": 200,
              "status_text": ""
            }
          },
          "base_uri": "https://localhost:8080/",
          "height": 89
        },
        "id": "GVO0x_xcVxyx",
        "outputId": "cf80a385-d861-43e7-be87-0bb9288d65f9"
      },
      "source": [
        "from google.colab import files\n",
        "files.upload()\n"
      ],
      "execution_count": null,
      "outputs": [
        {
          "output_type": "display_data",
          "data": {
            "text/html": [
              "\n",
              "     <input type=\"file\" id=\"files-3fa9a431-a921-484f-bf04-0afd2e10d79c\" name=\"files[]\" multiple disabled\n",
              "        style=\"border:none\" />\n",
              "     <output id=\"result-3fa9a431-a921-484f-bf04-0afd2e10d79c\">\n",
              "      Upload widget is only available when the cell has been executed in the\n",
              "      current browser session. Please rerun this cell to enable.\n",
              "      </output>\n",
              "      <script src=\"/nbextensions/google.colab/files.js\"></script> "
            ],
            "text/plain": [
              "<IPython.core.display.HTML object>"
            ]
          },
          "metadata": {
            "tags": []
          }
        },
        {
          "output_type": "stream",
          "text": [
            "Saving kaggle.json to kaggle.json\n"
          ],
          "name": "stdout"
        },
        {
          "output_type": "execute_result",
          "data": {
            "text/plain": [
              "{'kaggle.json': b'{\"username\":\"abdramdani\",\"key\":\"0850d17ece69fcc4d3fdbf3d1fa789d4\"}'}"
            ]
          },
          "metadata": {
            "tags": []
          },
          "execution_count": 2
        }
      ]
    },
    {
      "cell_type": "code",
      "metadata": {
        "id": "i7-jmUfaVx11"
      },
      "source": [
        "! mkdir ~/.kaggle\n",
        "! cp kaggle.json ~/.kaggle/\n",
        "\n",
        "! chmod 600 ~/.kaggle/kaggle.json"
      ],
      "execution_count": null,
      "outputs": []
    },
    {
      "cell_type": "code",
      "metadata": {
        "colab": {
          "base_uri": "https://localhost:8080/"
        },
        "id": "v5-KuSo_Vx4z",
        "outputId": "a853f621-40a6-47a4-afb0-d1f6a2786da1"
      },
      "source": [
        "#data set api \n",
        "!kaggle datasets download -d ruchi798/bookcrossing-dataset"
      ],
      "execution_count": null,
      "outputs": [
        {
          "output_type": "stream",
          "text": [
            "Downloading bookcrossing-dataset.zip to /content\n",
            " 91% 69.0M/76.1M [00:01<00:00, 22.1MB/s]\n",
            "100% 76.1M/76.1M [00:01<00:00, 42.7MB/s]\n"
          ],
          "name": "stdout"
        }
      ]
    },
    {
      "cell_type": "code",
      "metadata": {
        "colab": {
          "base_uri": "https://localhost:8080/"
        },
        "id": "uH4iafNQVx7p",
        "outputId": "2006f12e-81dd-4d05-8454-d2a634ed9a1a"
      },
      "source": [
        "#code to extract bookcrossing-dataset.zip\n",
        "from zipfile import ZipFile\n",
        "file_name=\"bookcrossing-dataset.zip\"\n",
        "with ZipFile(file_name,'r') as zip:\n",
        "  zip.extractall()\n",
        "  print(\"done\")\n"
      ],
      "execution_count": null,
      "outputs": [
        {
          "output_type": "stream",
          "text": [
            "done\n"
          ],
          "name": "stdout"
        }
      ]
    },
    {
      "cell_type": "code",
      "metadata": {
        "id": "_K0NLT4nVx-f"
      },
      "source": [
        "#import\n",
        "import pandas as pd\n",
        "import numpy as np \n",
        "import matplotlib.pyplot as plt\n",
        "\n"
      ],
      "execution_count": null,
      "outputs": []
    },
    {
      "cell_type": "code",
      "metadata": {
        "id": "TafhShGoVyBa"
      },
      "source": [
        "\"\"\"\n",
        "books_data=pd.read_csv(\"/content/Books Data with Category Language and Summary/Preprocessed_data.csv\",low_memory=False)\n",
        "books_rat=pd.read_csv(\"/content/Book reviews/Book reviews/BX-Book-Ratings.csv\",sep=';', encoding='latin-1',low_memory=False)\n",
        "books_data=books_data.rename(columns={\"isbn\":\"ISBN\"})\n",
        "print(books_data.shape,\"\\n\",list(books_data.columns))\n",
        "drop_c=['user_id','Unnamed: 0','age', 'location' , 'city', 'state', 'country',\"rating\"]\n",
        "books_data=books_data.drop(drop_c,axis=1)\n",
        "books_data=books_data.drop_duplicates(subset=\"ISBN\")\n",
        "books_data=books_data.drop_duplicates(subset=\"Summary\")\n",
        "#on enleve les column avec l'erreur de 9 \n",
        "books_data=books_data[books_data[\"Summary\"]!=\"9\"]\n",
        "books_data=books_data[books_data[\"Category\"]!=\"9\"]\n",
        "#je garde que les livres en anglais \n",
        "books_data=books_data[books_data[\"Language\"]==\"en\"]\n",
        "print(books_data.shape)\n",
        "\n",
        "\"\"\""
      ],
      "execution_count": null,
      "outputs": []
    },
    {
      "cell_type": "code",
      "metadata": {
        "colab": {
          "base_uri": "https://localhost:8080/"
        },
        "id": "Vgzz5utfVyNy",
        "outputId": "9824be75-6004-4fb5-f3cb-1100999646e6"
      },
      "source": [
        "\"\"\"\n",
        "#jajoute le average rating et la somme des ratting pour les livres\n",
        "#jenleve les rating =0 pour le calcule \n",
        "print(\"dataset des rating avant : \",books_rat.shape,books_rat[\"ISBN\"].nunique(),books_rat[\"User-ID\"].nunique())\n",
        "books_rat_nnul=books_rat[books_rat[\"Book-Rating\"]!=0]\n",
        "print(\"dataset des rating apres l'elimination des valeurs ==0 : \",books_rat_nnul.shape,books_rat_nnul[\"ISBN\"].nunique(),books_rat_nnul[\"User-ID\"].nunique())\n",
        "#nouveau diagramme\n",
        "\n",
        "\n",
        "#average_rating\n",
        "average_book=pd.DataFrame(books_rat_nnul.groupby(\"ISBN\")[\"Book-Rating\"].mean()).reset_index().rename(columns={\"Book-Rating\":\"average_rating\"})\n",
        "#average_book.sort_values(by=\"average_rating\",ascending=False)\n",
        "\n",
        "books_data=pd.merge(books_data,average_book, on =\"ISBN\")\n",
        "\n",
        "#somme rating\n",
        "book_rating_Count=(books_rat_nnul.groupby(by=[\"ISBN\"])[\"Book-Rating\"].count().reset_index().\n",
        "                   rename(columns={\"Book-Rating\":\"SommeRating\"}))\n",
        "books_data=pd.merge(books_data,book_rating_Count, on =\"ISBN\")\n",
        "print(books_data.shape)\n",
        "#books_data\n",
        "\"\"\""
      ],
      "execution_count": null,
      "outputs": [
        {
          "output_type": "stream",
          "text": [
            "dataset des rating avant :  (1149780, 3) 340556 105283\n",
            "dataset des rating apres l'elimination des valeurs ==0 :  (433671, 3) 185973 77805\n",
            "(75288, 13)\n"
          ],
          "name": "stdout"
        }
      ]
    },
    {
      "cell_type": "code",
      "metadata": {
        "colab": {
          "base_uri": "https://localhost:8080/"
        },
        "id": "7ygo1-oDVyQv",
        "outputId": "a389ca28-acc4-4282-dff8-13a864065831"
      },
      "source": [
        ""
      ],
      "execution_count": null,
      "outputs": [
        {
          "output_type": "stream",
          "text": [
            "(216926, 3) Index(['User-ID', 'ISBN', 'Book-Rating'], dtype='object')\n"
          ],
          "name": "stdout"
        }
      ]
    },
    {
      "cell_type": "code",
      "metadata": {
        "colab": {
          "base_uri": "https://localhost:8080/"
        },
        "id": "Of8yqWzAuRQ7",
        "outputId": "2d58cbca-a8e8-44aa-9b35-0f55fd1fbb80"
      },
      "source": [
        "\"\"\"\n",
        "#j'utilise que les rating sans les 0\n",
        "books_rating=pd.merge(books_rat_nnul,books_data[\"ISBN\"],on=\"ISBN\")\n",
        "print(books_rating.shape,books_rating.columns)\n",
        "#on prend un user avec > 15 ratting \n",
        "print(books_rating.shape,books_rating[\"User-ID\"].nunique(),books_rating[\"ISBN\"].nunique())\n",
        "#groupe1= books_rat_nnul[\"User-ID\"].value_counts()\n",
        "groupe1=pd.DataFrame(books_rating.groupby(\"User-ID\")[\"ISBN\"].count()).reset_index().rename(columns={\"ISBN\":\"Nb_book_rated\"})\n",
        "print(groupe1.shape)\n",
        "groupe1=groupe1.query(\"Nb_book_rated >=15\")\n",
        "print(groupe1.shape)\n",
        "books_rat2=pd.merge(books_rating,groupe1[\"User-ID\"], on =\"User-ID\",how=\"inner\")\n",
        "print(books_rat2.shape,books_rat2[\"User-ID\"].nunique(),books_rat2[\"ISBN\"].nunique())\n",
        "\"\"\""
      ],
      "execution_count": null,
      "outputs": [
        {
          "output_type": "stream",
          "text": [
            "(216926, 3) 46162 75288\n",
            "(46162, 2)\n",
            "(2563, 2)\n",
            "(118152, 3) 2563 55031\n"
          ],
          "name": "stdout"
        }
      ]
    },
    {
      "cell_type": "code",
      "metadata": {
        "colab": {
          "base_uri": "https://localhost:8080/"
        },
        "id": "Rrhw2mYJVyT-",
        "outputId": "631b040e-91f6-4800-8f19-325760666ccc"
      },
      "source": [
        "\"\"\"\n",
        "#je prends les livres qui existe dans books_rat2\n",
        "books_rat_isbn=books_rat2.drop_duplicates(subset=\"ISBN\")\n",
        "print(books_rat_isbn.shape)\n",
        "books_data2=pd.merge(books_data,books_rat_isbn[\"ISBN\"], on =\"ISBN\",how=\"inner\")\n",
        "print(books_data2.shape,books_rat2[\"ISBN\"].nunique())\n",
        "\"\"\""
      ],
      "execution_count": null,
      "outputs": [
        {
          "output_type": "stream",
          "text": [
            "(55031, 3)\n",
            "(55031, 13) 55031\n"
          ],
          "name": "stdout"
        }
      ]
    },
    {
      "cell_type": "code",
      "metadata": {
        "id": "Lmu6av_zx9n4"
      },
      "source": [
        "#sinon si je telecharge le dataset de mon pc \n",
        "import pickle\n",
        "#pickle_in=open(\"/content/sample_data/books_data_final.pickle\",\"rb\")\n",
        "#books_data2=pickle.load(pickle_in)\n",
        "pickle_in=open(\"/content/books_rating_final.pickle\",\"rb\")\n",
        "books_rat2=pickle.load(pickle_in)\n"
      ],
      "execution_count": null,
      "outputs": []
    },
    {
      "cell_type": "code",
      "metadata": {
        "colab": {
          "base_uri": "https://localhost:8080/"
        },
        "id": "30aZb1rehJL6",
        "outputId": "b3205f0d-aab1-40ab-d7a4-683d0e968e66"
      },
      "source": [
        "! pip install surprise"
      ],
      "execution_count": null,
      "outputs": [
        {
          "output_type": "stream",
          "text": [
            "Collecting surprise\n",
            "  Downloading https://files.pythonhosted.org/packages/61/de/e5cba8682201fcf9c3719a6fdda95693468ed061945493dea2dd37c5618b/surprise-0.1-py2.py3-none-any.whl\n",
            "Collecting scikit-surprise\n",
            "\u001b[?25l  Downloading https://files.pythonhosted.org/packages/97/37/5d334adaf5ddd65da99fc65f6507e0e4599d092ba048f4302fe8775619e8/scikit-surprise-1.1.1.tar.gz (11.8MB)\n",
            "\u001b[K     |████████████████████████████████| 11.8MB 3.7MB/s \n",
            "\u001b[?25hRequirement already satisfied: joblib>=0.11 in /usr/local/lib/python3.7/dist-packages (from scikit-surprise->surprise) (1.0.1)\n",
            "Requirement already satisfied: numpy>=1.11.2 in /usr/local/lib/python3.7/dist-packages (from scikit-surprise->surprise) (1.19.5)\n",
            "Requirement already satisfied: scipy>=1.0.0 in /usr/local/lib/python3.7/dist-packages (from scikit-surprise->surprise) (1.4.1)\n",
            "Requirement already satisfied: six>=1.10.0 in /usr/local/lib/python3.7/dist-packages (from scikit-surprise->surprise) (1.15.0)\n",
            "Building wheels for collected packages: scikit-surprise\n",
            "  Building wheel for scikit-surprise (setup.py) ... \u001b[?25l\u001b[?25hdone\n",
            "  Created wheel for scikit-surprise: filename=scikit_surprise-1.1.1-cp37-cp37m-linux_x86_64.whl size=1617621 sha256=3df5b40e4a9cc3ef49545985830305e4d9bf2ca59c24f489d775399cfff47908\n",
            "  Stored in directory: /root/.cache/pip/wheels/78/9c/3d/41b419c9d2aff5b6e2b4c0fc8d25c538202834058f9ed110d0\n",
            "Successfully built scikit-surprise\n",
            "Installing collected packages: scikit-surprise, surprise\n",
            "Successfully installed scikit-surprise-1.1.1 surprise-0.1\n"
          ],
          "name": "stdout"
        }
      ]
    },
    {
      "cell_type": "code",
      "metadata": {
        "id": "iA_4fvsBhJPG"
      },
      "source": [
        "from surprise import Reader, Dataset, SVD , SVDpp , NMF , CoClustering , SlopeOne\n",
        "from surprise.model_selection import cross_validate\n",
        "from surprise.model_selection import train_test_split\n",
        "from surprise import accuracy\n",
        "reader = Reader(rating_scale=(1, 10))"
      ],
      "execution_count": null,
      "outputs": []
    },
    {
      "cell_type": "code",
      "metadata": {
        "id": "Kf4mVslNEizs"
      },
      "source": [
        ""
      ],
      "execution_count": null,
      "outputs": []
    },
    {
      "cell_type": "code",
      "metadata": {
        "id": "FGz8L4KWhT2Y"
      },
      "source": [
        "data1 = Dataset.load_from_df(books_rat2[['User-ID', 'ISBN', 'Book-Rating']], reader)\n",
        "svd1 = SVD()\n"
      ],
      "execution_count": null,
      "outputs": []
    },
    {
      "cell_type": "code",
      "metadata": {
        "id": "M6YL7tElhT8p"
      },
      "source": [
        "#trainset = data.build_full_trainset()\n",
        "#svd1.fit(trainset)\n",
        "#svd1.predict(191883, \"0878574808\"\t)"
      ],
      "execution_count": null,
      "outputs": []
    },
    {
      "cell_type": "code",
      "metadata": {
        "id": "ZkzGRvFrE_z3"
      },
      "source": [
        ""
      ],
      "execution_count": null,
      "outputs": []
    },
    {
      "cell_type": "code",
      "metadata": {
        "colab": {
          "base_uri": "https://localhost:8080/"
        },
        "id": "c4KI0es3hUFl",
        "outputId": "d9e70ec6-2a3e-42a1-f42a-59b7bae637ce"
      },
      "source": [
        "#evaluation de SVD1\n",
        "# test set is made of 20% of the ratings.\n",
        "trainset, testset = train_test_split(data1, test_size=.20)\n",
        "\n",
        "\n",
        "# Train the algorithm on the trainset, and predict ratings for the testset\n",
        "svd1.fit(trainset)\n",
        "predictions = svd1.test(testset)\n",
        "\n",
        "# Then compute RMSE and MAE\n",
        "accuracy.rmse(predictions)\n",
        "accuracy.mae(predictions)"
      ],
      "execution_count": null,
      "outputs": [
        {
          "output_type": "stream",
          "text": [
            "RMSE: 1.5442\n",
            "MAE:  1.1772\n"
          ],
          "name": "stdout"
        },
        {
          "output_type": "execute_result",
          "data": {
            "text/plain": [
              "1.1772176312238363"
            ]
          },
          "metadata": {
            "tags": []
          },
          "execution_count": 7
        }
      ]
    },
    {
      "cell_type": "code",
      "metadata": {
        "id": "2X7RarqkFmSS"
      },
      "source": [
        "#on essaye sur SVDPP"
      ],
      "execution_count": null,
      "outputs": []
    },
    {
      "cell_type": "code",
      "metadata": {
        "id": "pc7HBAzZFmWP"
      },
      "source": [
        "# test set is made from 20% of the ratings.\n",
        "\n",
        "svdpp = SVDpp()\n",
        "trainset, testset = train_test_split(data1, test_size=.20)\n",
        "\n",
        "\n",
        "#elle prend bcz de temps cette etape \n",
        "svdpp.fit(trainset)\n",
        "predictions = svdpp.test(testset)\n",
        "\n",
        "# Then compute RMSE and MAE\n",
        "accuracy.rmse(predictions)\n",
        "accuracy.mae(predictions)"
      ],
      "execution_count": null,
      "outputs": []
    },
    {
      "cell_type": "code",
      "metadata": {
        "colab": {
          "base_uri": "https://localhost:8080/"
        },
        "id": "ftxI_QM6Fmb3",
        "outputId": "7c426306-a644-49f7-e77d-9cbc1c7ef180"
      },
      "source": [
        "#test nmf \n",
        "\n",
        "nmf = NMF()\n",
        "trainset, testset = train_test_split(data1, test_size=.20)\n",
        "\n",
        "\n",
        "# Train the algorithm on the trainset, and predict ratings for the testset\n",
        "nmf.fit(trainset)\n",
        "predictions = nmf.test(testset)\n",
        "\n",
        "# Then compute RMSE and MAE\n",
        "accuracy.rmse(predictions)\n",
        "accuracy.mae(predictions)"
      ],
      "execution_count": null,
      "outputs": [
        {
          "output_type": "stream",
          "text": [
            "RMSE: 2.5265\n",
            "MAE:  2.1162\n"
          ],
          "name": "stdout"
        },
        {
          "output_type": "execute_result",
          "data": {
            "text/plain": [
              "2.1162010442822625"
            ]
          },
          "metadata": {
            "tags": []
          },
          "execution_count": 9
        }
      ]
    },
    {
      "cell_type": "code",
      "metadata": {
        "id": "MGR277RyFmfd"
      },
      "source": [
        "#test KNN simple\n",
        "from surprise import KNNBasic"
      ],
      "execution_count": null,
      "outputs": []
    },
    {
      "cell_type": "code",
      "metadata": {
        "colab": {
          "base_uri": "https://localhost:8080/"
        },
        "id": "Np628DJQvYNc",
        "outputId": "e1de8d36-3598-433b-a670-8f838a188645"
      },
      "source": [
        "\n",
        "# Retrieve the trainset.\n",
        "#trainset = data1.build_full_trainset()\n",
        "\n",
        "# Build an algorithm, and train it.\n",
        "algo_knn = KNNBasic()\n",
        "\n",
        "algo_knn.fit(trainset)\n",
        "#prediction with knn \n",
        "pred = algo_knn.predict(191883,\t\"0671551752\", r_ui=4, verbose=True)"
      ],
      "execution_count": null,
      "outputs": [
        {
          "output_type": "stream",
          "text": [
            "Computing the msd similarity matrix...\n",
            "Done computing similarity matrix.\n",
            "user: 191883     item: 0671551752 r_ui = 4.00   est = 10.00   {'actual_k': 1, 'was_impossible': False}\n"
          ],
          "name": "stdout"
        }
      ]
    },
    {
      "cell_type": "code",
      "metadata": {
        "colab": {
          "base_uri": "https://localhost:8080/"
        },
        "id": "MDoBNTP8vYPt",
        "outputId": "2d4bbf27-eb22-4e7b-a569-071ae76caa67"
      },
      "source": [
        "#evaluation \n",
        "\n",
        "trainset,testset = train_test_split(data1, test_size=.2)\n",
        "\n",
        "# Train the algorithm on the trainset, and predict ratings for the testset\n",
        "algo_knn.fit(trainset)\n",
        "predictions = algo_knn.test(testset)\n",
        "print(\"les resultat de KNN simple :\")\n",
        "# Then compute RMSE\n",
        "accuracy.rmse(predictions)\n",
        "accuracy.mae(predictions)"
      ],
      "execution_count": null,
      "outputs": [
        {
          "output_type": "stream",
          "text": [
            "Computing the msd similarity matrix...\n",
            "Done computing similarity matrix.\n",
            "les resultat de KNN simple :\n",
            "RMSE: 1.9351\n",
            "MAE:  1.5097\n"
          ],
          "name": "stdout"
        },
        {
          "output_type": "execute_result",
          "data": {
            "text/plain": [
              "1.5096974020221476"
            ]
          },
          "metadata": {
            "tags": []
          },
          "execution_count": 12
        }
      ]
    },
    {
      "cell_type": "code",
      "metadata": {
        "id": "QJkXMdmLGa5T"
      },
      "source": [
        "#knn with person baseline\n",
        "sim_options = {'name': 'pearson_baseline',\n",
        "               'shrinkage': 0  # no shrinkage\n",
        "               }\n",
        "algo_knn_pearson_baseline = KNNBasic(sim_options=sim_options)"
      ],
      "execution_count": null,
      "outputs": []
    },
    {
      "cell_type": "code",
      "metadata": {
        "colab": {
          "base_uri": "https://localhost:8080/"
        },
        "id": "dq3PEDDM-nRT",
        "outputId": "41748746-671a-46cb-f9bc-1383ee528dfd"
      },
      "source": [
        "trainset,testset = train_test_split(data1, test_size=.2)\n",
        "algo_knn_pearson_baseline.fit(trainset)\n",
        "predictions = algo_knn_pearson_baseline.test(testset)\n",
        "print(\"les resultat de KNN with pearson_baseline :\")\n",
        "# Then compute RMSE\n",
        "accuracy.rmse(predictions)\n",
        "accuracy.mae(predictions)"
      ],
      "execution_count": null,
      "outputs": [
        {
          "output_type": "stream",
          "text": [
            "Estimating biases using als...\n",
            "Computing the pearson_baseline similarity matrix...\n",
            "Done computing similarity matrix.\n",
            "les resultat de KNN with pearson_baseline :\n",
            "RMSE: 1.8893\n",
            "MAE:  1.4911\n"
          ],
          "name": "stdout"
        },
        {
          "output_type": "execute_result",
          "data": {
            "text/plain": [
              "1.4910898036100009"
            ]
          },
          "metadata": {
            "tags": []
          },
          "execution_count": 14
        }
      ]
    },
    {
      "cell_type": "code",
      "metadata": {
        "colab": {
          "base_uri": "https://localhost:8080/"
        },
        "id": "40Jxt0iWQOhb",
        "outputId": "4d89c44c-b33c-4078-80cd-5665a4849c17"
      },
      "source": [
        "\n",
        "#knn with person \n",
        "sim_options = {'name': 'pearson',\n",
        "               'shrinkage': 0  # no shrinkage\n",
        "               }\n",
        "algo_knn_pearson = KNNBasic(sim_options=sim_options)\n",
        "trainset,testset = train_test_split(data1, test_size=.2)\n",
        "algo_knn_pearson_baseline.fit(trainset)\n",
        "predictions = algo_knn_pearson_baseline.test(testset)\n",
        "print(\"les resultat de KNN with pearson  :\")\n",
        "# Then compute RMSE\n",
        "accuracy.rmse(predictions)\n",
        "accuracy.mae(predictions)"
      ],
      "execution_count": null,
      "outputs": [
        {
          "output_type": "stream",
          "text": [
            "Estimating biases using als...\n",
            "Computing the pearson_baseline similarity matrix...\n",
            "Done computing similarity matrix.\n",
            "les resultat de KNN with pearson  :\n",
            "RMSE: 1.8987\n",
            "MAE:  1.4916\n"
          ],
          "name": "stdout"
        },
        {
          "output_type": "execute_result",
          "data": {
            "text/plain": [
              "1.49156208178498"
            ]
          },
          "metadata": {
            "tags": []
          },
          "execution_count": 42
        }
      ]
    },
    {
      "cell_type": "code",
      "metadata": {
        "colab": {
          "base_uri": "https://localhost:8080/"
        },
        "id": "HN3qckkaSOBQ",
        "outputId": "92bc5ed7-aa82-4556-e5fd-27f9b3099767"
      },
      "source": [
        "#knn with cosine\n",
        "sim_options = {'name': 'cosine',\n",
        "               'shrinkage': 0  # no shrinkage\n",
        "               }\n",
        "algo_knn_cosine = KNNBasic(sim_options=sim_options)\n",
        "trainset,testset = train_test_split(data1, test_size=.2)\n",
        "algo_knn_cosine.fit(trainset)\n",
        "predictions = algo_knn_cosine.test(testset)\n",
        "print(\"les resultat de KNN with cosine  :\")\n",
        "# Then compute RMSE\n",
        "accuracy.rmse(predictions)\n",
        "accuracy.mae(predictions)"
      ],
      "execution_count": null,
      "outputs": [
        {
          "output_type": "stream",
          "text": [
            "Computing the cosine similarity matrix...\n",
            "Done computing similarity matrix.\n",
            "les resultat de KNN with cosine  :\n",
            "RMSE: 1.9655\n",
            "MAE:  1.5438\n"
          ],
          "name": "stdout"
        },
        {
          "output_type": "execute_result",
          "data": {
            "text/plain": [
              "1.5438334396892845"
            ]
          },
          "metadata": {
            "tags": []
          },
          "execution_count": 16
        }
      ]
    },
    {
      "cell_type": "code",
      "metadata": {
        "colab": {
          "base_uri": "https://localhost:8080/"
        },
        "id": "aE7SI1mpSACz",
        "outputId": "a8f44fef-7c92-4928-d7b1-daf947330828"
      },
      "source": [
        "#jessaye le Co-clustering\n",
        "algo_co=CoClustering()\n",
        "trainset,testset = train_test_split(data1, test_size=.2)\n",
        "algo_co.fit(trainset)\n",
        "predictions = algo_co.test(testset)\n",
        "print(\"les resultat de clustering  :\")\n",
        "# Then compute RMSE\n",
        "accuracy.rmse(predictions)\n",
        "accuracy.mae(predictions)\n"
      ],
      "execution_count": null,
      "outputs": [
        {
          "output_type": "stream",
          "text": [
            "les resultat de clustering  :\n",
            "RMSE: 1.8183\n",
            "MAE:  1.4063\n"
          ],
          "name": "stdout"
        },
        {
          "output_type": "execute_result",
          "data": {
            "text/plain": [
              "1.4062812511048544"
            ]
          },
          "metadata": {
            "tags": []
          },
          "execution_count": 17
        }
      ]
    },
    {
      "cell_type": "code",
      "metadata": {
        "id": "XUudF87jpIxw"
      },
      "source": [
        "from surprise.model_selection.search import GridSearchCV"
      ],
      "execution_count": null,
      "outputs": []
    },
    {
      "cell_type": "code",
      "metadata": {
        "colab": {
          "base_uri": "https://localhost:8080/"
        },
        "id": "GC3uSauOpTP5",
        "outputId": "86848f9d-811f-402a-d2d4-8c3d35058bce"
      },
      "source": [
        "param_grid = {'k': [1,2,3,4,5,6,7,8,9,10],\n",
        "              'sim_options': {'name': ['pearson_baseline'],\n",
        "                              \n",
        "                              'user_based': [True]}\n",
        "              }\n",
        "gs = GridSearchCV(KNNBasic, param_grid, measures=['rmse', 'mae'])\n",
        "\n",
        "gs.fit(data1)\n",
        "\n",
        "# best RMSE score\n",
        "print(gs.best_score['mae'])\n",
        "\n",
        "# combination of parameters that gave the best RMSE score\n",
        "print(gs.best_params['mae'])"
      ],
      "execution_count": null,
      "outputs": [
        {
          "output_type": "stream",
          "text": [
            "Estimating biases using als...\n",
            "Computing the pearson_baseline similarity matrix...\n",
            "Done computing similarity matrix.\n",
            "Estimating biases using als...\n",
            "Computing the pearson_baseline similarity matrix...\n",
            "Done computing similarity matrix.\n",
            "Estimating biases using als...\n",
            "Computing the pearson_baseline similarity matrix...\n",
            "Done computing similarity matrix.\n",
            "Estimating biases using als...\n",
            "Computing the pearson_baseline similarity matrix...\n",
            "Done computing similarity matrix.\n",
            "Estimating biases using als...\n",
            "Computing the pearson_baseline similarity matrix...\n",
            "Done computing similarity matrix.\n",
            "Estimating biases using als...\n",
            "Computing the pearson_baseline similarity matrix...\n",
            "Done computing similarity matrix.\n",
            "Estimating biases using als...\n",
            "Computing the pearson_baseline similarity matrix...\n",
            "Done computing similarity matrix.\n",
            "Estimating biases using als...\n",
            "Computing the pearson_baseline similarity matrix...\n",
            "Done computing similarity matrix.\n",
            "Estimating biases using als...\n",
            "Computing the pearson_baseline similarity matrix...\n",
            "Done computing similarity matrix.\n",
            "Estimating biases using als...\n",
            "Computing the pearson_baseline similarity matrix...\n",
            "Done computing similarity matrix.\n",
            "Estimating biases using als...\n",
            "Computing the pearson_baseline similarity matrix...\n",
            "Done computing similarity matrix.\n",
            "Estimating biases using als...\n",
            "Computing the pearson_baseline similarity matrix...\n",
            "Done computing similarity matrix.\n",
            "Estimating biases using als...\n",
            "Computing the pearson_baseline similarity matrix...\n",
            "Done computing similarity matrix.\n",
            "Estimating biases using als...\n",
            "Computing the pearson_baseline similarity matrix...\n",
            "Done computing similarity matrix.\n",
            "Estimating biases using als...\n",
            "Computing the pearson_baseline similarity matrix...\n",
            "Done computing similarity matrix.\n",
            "Estimating biases using als...\n",
            "Computing the pearson_baseline similarity matrix...\n",
            "Done computing similarity matrix.\n",
            "Estimating biases using als...\n",
            "Computing the pearson_baseline similarity matrix...\n",
            "Done computing similarity matrix.\n",
            "Estimating biases using als...\n",
            "Computing the pearson_baseline similarity matrix...\n",
            "Done computing similarity matrix.\n",
            "Estimating biases using als...\n",
            "Computing the pearson_baseline similarity matrix...\n",
            "Done computing similarity matrix.\n",
            "Estimating biases using als...\n",
            "Computing the pearson_baseline similarity matrix...\n",
            "Done computing similarity matrix.\n",
            "Estimating biases using als...\n",
            "Computing the pearson_baseline similarity matrix...\n",
            "Done computing similarity matrix.\n",
            "Estimating biases using als...\n",
            "Computing the pearson_baseline similarity matrix...\n",
            "Done computing similarity matrix.\n",
            "Estimating biases using als...\n",
            "Computing the pearson_baseline similarity matrix...\n",
            "Done computing similarity matrix.\n",
            "Estimating biases using als...\n",
            "Computing the pearson_baseline similarity matrix...\n",
            "Done computing similarity matrix.\n",
            "Estimating biases using als...\n",
            "Computing the pearson_baseline similarity matrix...\n",
            "Done computing similarity matrix.\n",
            "Estimating biases using als...\n",
            "Computing the pearson_baseline similarity matrix...\n",
            "Done computing similarity matrix.\n",
            "Estimating biases using als...\n",
            "Computing the pearson_baseline similarity matrix...\n",
            "Done computing similarity matrix.\n",
            "Estimating biases using als...\n",
            "Computing the pearson_baseline similarity matrix...\n",
            "Done computing similarity matrix.\n",
            "Estimating biases using als...\n",
            "Computing the pearson_baseline similarity matrix...\n",
            "Done computing similarity matrix.\n",
            "Estimating biases using als...\n",
            "Computing the pearson_baseline similarity matrix...\n",
            "Done computing similarity matrix.\n",
            "Estimating biases using als...\n",
            "Computing the pearson_baseline similarity matrix...\n",
            "Done computing similarity matrix.\n",
            "Estimating biases using als...\n",
            "Computing the pearson_baseline similarity matrix...\n",
            "Done computing similarity matrix.\n",
            "Estimating biases using als...\n",
            "Computing the pearson_baseline similarity matrix...\n",
            "Done computing similarity matrix.\n",
            "Estimating biases using als...\n",
            "Computing the pearson_baseline similarity matrix...\n",
            "Done computing similarity matrix.\n",
            "Estimating biases using als...\n",
            "Computing the pearson_baseline similarity matrix...\n",
            "Done computing similarity matrix.\n",
            "Estimating biases using als...\n",
            "Computing the pearson_baseline similarity matrix...\n",
            "Done computing similarity matrix.\n",
            "Estimating biases using als...\n",
            "Computing the pearson_baseline similarity matrix...\n",
            "Done computing similarity matrix.\n",
            "Estimating biases using als...\n",
            "Computing the pearson_baseline similarity matrix...\n",
            "Done computing similarity matrix.\n",
            "Estimating biases using als...\n",
            "Computing the pearson_baseline similarity matrix...\n",
            "Done computing similarity matrix.\n",
            "Estimating biases using als...\n",
            "Computing the pearson_baseline similarity matrix...\n",
            "Done computing similarity matrix.\n",
            "Estimating biases using als...\n",
            "Computing the pearson_baseline similarity matrix...\n",
            "Done computing similarity matrix.\n",
            "Estimating biases using als...\n",
            "Computing the pearson_baseline similarity matrix...\n",
            "Done computing similarity matrix.\n",
            "Estimating biases using als...\n",
            "Computing the pearson_baseline similarity matrix...\n",
            "Done computing similarity matrix.\n",
            "Estimating biases using als...\n",
            "Computing the pearson_baseline similarity matrix...\n",
            "Done computing similarity matrix.\n",
            "Estimating biases using als...\n",
            "Computing the pearson_baseline similarity matrix...\n",
            "Done computing similarity matrix.\n",
            "Estimating biases using als...\n",
            "Computing the pearson_baseline similarity matrix...\n",
            "Done computing similarity matrix.\n",
            "Estimating biases using als...\n",
            "Computing the pearson_baseline similarity matrix...\n",
            "Done computing similarity matrix.\n",
            "Estimating biases using als...\n",
            "Computing the pearson_baseline similarity matrix...\n",
            "Done computing similarity matrix.\n",
            "Estimating biases using als...\n",
            "Computing the pearson_baseline similarity matrix...\n",
            "Done computing similarity matrix.\n",
            "Estimating biases using als...\n",
            "Computing the pearson_baseline similarity matrix...\n",
            "Done computing similarity matrix.\n",
            "1.499831713137478\n",
            "{'k': 10, 'sim_options': {'name': 'pearson_baseline', 'user_based': True}}\n"
          ],
          "name": "stdout"
        }
      ]
    },
    {
      "cell_type": "code",
      "metadata": {
        "colab": {
          "base_uri": "https://localhost:8080/",
          "height": 889
        },
        "id": "-TsBiXFRufaX",
        "outputId": "4401b351-06f0-4236-8534-f44a9633b13e"
      },
      "source": [
        "results_df = pd.DataFrame.from_dict(gs.cv_results)\n",
        "results_df"
      ],
      "execution_count": null,
      "outputs": [
        {
          "output_type": "execute_result",
          "data": {
            "text/html": [
              "<div>\n",
              "<style scoped>\n",
              "    .dataframe tbody tr th:only-of-type {\n",
              "        vertical-align: middle;\n",
              "    }\n",
              "\n",
              "    .dataframe tbody tr th {\n",
              "        vertical-align: top;\n",
              "    }\n",
              "\n",
              "    .dataframe thead th {\n",
              "        text-align: right;\n",
              "    }\n",
              "</style>\n",
              "<table border=\"1\" class=\"dataframe\">\n",
              "  <thead>\n",
              "    <tr style=\"text-align: right;\">\n",
              "      <th></th>\n",
              "      <th>split0_test_rmse</th>\n",
              "      <th>split1_test_rmse</th>\n",
              "      <th>split2_test_rmse</th>\n",
              "      <th>split3_test_rmse</th>\n",
              "      <th>split4_test_rmse</th>\n",
              "      <th>mean_test_rmse</th>\n",
              "      <th>std_test_rmse</th>\n",
              "      <th>rank_test_rmse</th>\n",
              "      <th>split0_test_mae</th>\n",
              "      <th>split1_test_mae</th>\n",
              "      <th>split2_test_mae</th>\n",
              "      <th>split3_test_mae</th>\n",
              "      <th>split4_test_mae</th>\n",
              "      <th>mean_test_mae</th>\n",
              "      <th>std_test_mae</th>\n",
              "      <th>rank_test_mae</th>\n",
              "      <th>mean_fit_time</th>\n",
              "      <th>std_fit_time</th>\n",
              "      <th>mean_test_time</th>\n",
              "      <th>std_test_time</th>\n",
              "      <th>params</th>\n",
              "      <th>param_k</th>\n",
              "      <th>param_sim_options</th>\n",
              "    </tr>\n",
              "  </thead>\n",
              "  <tbody>\n",
              "    <tr>\n",
              "      <th>0</th>\n",
              "      <td>1.937827</td>\n",
              "      <td>1.942966</td>\n",
              "      <td>1.929085</td>\n",
              "      <td>1.948755</td>\n",
              "      <td>1.944059</td>\n",
              "      <td>1.940538</td>\n",
              "      <td>0.006698</td>\n",
              "      <td>10</td>\n",
              "      <td>1.515372</td>\n",
              "      <td>1.523517</td>\n",
              "      <td>1.508491</td>\n",
              "      <td>1.533183</td>\n",
              "      <td>1.520147</td>\n",
              "      <td>1.520142</td>\n",
              "      <td>0.008246</td>\n",
              "      <td>10</td>\n",
              "      <td>1.022845</td>\n",
              "      <td>0.016422</td>\n",
              "      <td>0.351145</td>\n",
              "      <td>0.005775</td>\n",
              "      <td>{'k': 1, 'sim_options': {'name': 'pearson_base...</td>\n",
              "      <td>1</td>\n",
              "      <td>{'name': 'pearson_baseline', 'user_based': True}</td>\n",
              "    </tr>\n",
              "    <tr>\n",
              "      <th>1</th>\n",
              "      <td>1.907246</td>\n",
              "      <td>1.915676</td>\n",
              "      <td>1.901991</td>\n",
              "      <td>1.918988</td>\n",
              "      <td>1.915157</td>\n",
              "      <td>1.911812</td>\n",
              "      <td>0.006244</td>\n",
              "      <td>9</td>\n",
              "      <td>1.498709</td>\n",
              "      <td>1.508292</td>\n",
              "      <td>1.494750</td>\n",
              "      <td>1.517593</td>\n",
              "      <td>1.504963</td>\n",
              "      <td>1.504861</td>\n",
              "      <td>0.007924</td>\n",
              "      <td>9</td>\n",
              "      <td>0.980284</td>\n",
              "      <td>0.006386</td>\n",
              "      <td>0.384737</td>\n",
              "      <td>0.004325</td>\n",
              "      <td>{'k': 2, 'sim_options': {'name': 'pearson_base...</td>\n",
              "      <td>2</td>\n",
              "      <td>{'name': 'pearson_baseline', 'user_based': True}</td>\n",
              "    </tr>\n",
              "    <tr>\n",
              "      <th>2</th>\n",
              "      <td>1.901826</td>\n",
              "      <td>1.911220</td>\n",
              "      <td>1.897166</td>\n",
              "      <td>1.914313</td>\n",
              "      <td>1.910161</td>\n",
              "      <td>1.906937</td>\n",
              "      <td>0.006399</td>\n",
              "      <td>8</td>\n",
              "      <td>1.495349</td>\n",
              "      <td>1.505438</td>\n",
              "      <td>1.491906</td>\n",
              "      <td>1.514534</td>\n",
              "      <td>1.501947</td>\n",
              "      <td>1.501835</td>\n",
              "      <td>0.007936</td>\n",
              "      <td>8</td>\n",
              "      <td>0.984561</td>\n",
              "      <td>0.019494</td>\n",
              "      <td>0.520899</td>\n",
              "      <td>0.244079</td>\n",
              "      <td>{'k': 3, 'sim_options': {'name': 'pearson_base...</td>\n",
              "      <td>3</td>\n",
              "      <td>{'name': 'pearson_baseline', 'user_based': True}</td>\n",
              "    </tr>\n",
              "    <tr>\n",
              "      <th>3</th>\n",
              "      <td>1.900223</td>\n",
              "      <td>1.909419</td>\n",
              "      <td>1.895659</td>\n",
              "      <td>1.912763</td>\n",
              "      <td>1.908439</td>\n",
              "      <td>1.905301</td>\n",
              "      <td>0.006344</td>\n",
              "      <td>7</td>\n",
              "      <td>1.494500</td>\n",
              "      <td>1.504189</td>\n",
              "      <td>1.490692</td>\n",
              "      <td>1.513246</td>\n",
              "      <td>1.500521</td>\n",
              "      <td>1.500630</td>\n",
              "      <td>0.007851</td>\n",
              "      <td>7</td>\n",
              "      <td>0.978064</td>\n",
              "      <td>0.012135</td>\n",
              "      <td>0.402610</td>\n",
              "      <td>0.006773</td>\n",
              "      <td>{'k': 4, 'sim_options': {'name': 'pearson_base...</td>\n",
              "      <td>4</td>\n",
              "      <td>{'name': 'pearson_baseline', 'user_based': True}</td>\n",
              "    </tr>\n",
              "    <tr>\n",
              "      <th>4</th>\n",
              "      <td>1.899761</td>\n",
              "      <td>1.908853</td>\n",
              "      <td>1.895318</td>\n",
              "      <td>1.912264</td>\n",
              "      <td>1.907680</td>\n",
              "      <td>1.904775</td>\n",
              "      <td>0.006257</td>\n",
              "      <td>6</td>\n",
              "      <td>1.493959</td>\n",
              "      <td>1.503622</td>\n",
              "      <td>1.490527</td>\n",
              "      <td>1.512909</td>\n",
              "      <td>1.500026</td>\n",
              "      <td>1.500208</td>\n",
              "      <td>0.007820</td>\n",
              "      <td>6</td>\n",
              "      <td>0.984443</td>\n",
              "      <td>0.003319</td>\n",
              "      <td>0.534140</td>\n",
              "      <td>0.241421</td>\n",
              "      <td>{'k': 5, 'sim_options': {'name': 'pearson_base...</td>\n",
              "      <td>5</td>\n",
              "      <td>{'name': 'pearson_baseline', 'user_based': True}</td>\n",
              "    </tr>\n",
              "    <tr>\n",
              "      <th>5</th>\n",
              "      <td>1.899533</td>\n",
              "      <td>1.908576</td>\n",
              "      <td>1.895082</td>\n",
              "      <td>1.912153</td>\n",
              "      <td>1.907397</td>\n",
              "      <td>1.904548</td>\n",
              "      <td>0.006276</td>\n",
              "      <td>5</td>\n",
              "      <td>1.493695</td>\n",
              "      <td>1.503345</td>\n",
              "      <td>1.490363</td>\n",
              "      <td>1.512930</td>\n",
              "      <td>1.499849</td>\n",
              "      <td>1.500036</td>\n",
              "      <td>0.007887</td>\n",
              "      <td>5</td>\n",
              "      <td>0.982292</td>\n",
              "      <td>0.013158</td>\n",
              "      <td>0.409883</td>\n",
              "      <td>0.010591</td>\n",
              "      <td>{'k': 6, 'sim_options': {'name': 'pearson_base...</td>\n",
              "      <td>6</td>\n",
              "      <td>{'name': 'pearson_baseline', 'user_based': True}</td>\n",
              "    </tr>\n",
              "    <tr>\n",
              "      <th>6</th>\n",
              "      <td>1.899430</td>\n",
              "      <td>1.908468</td>\n",
              "      <td>1.894989</td>\n",
              "      <td>1.912024</td>\n",
              "      <td>1.907293</td>\n",
              "      <td>1.904441</td>\n",
              "      <td>0.006266</td>\n",
              "      <td>4</td>\n",
              "      <td>1.493498</td>\n",
              "      <td>1.503245</td>\n",
              "      <td>1.490244</td>\n",
              "      <td>1.512873</td>\n",
              "      <td>1.499884</td>\n",
              "      <td>1.499949</td>\n",
              "      <td>0.007921</td>\n",
              "      <td>4</td>\n",
              "      <td>0.980079</td>\n",
              "      <td>0.012178</td>\n",
              "      <td>0.421053</td>\n",
              "      <td>0.006458</td>\n",
              "      <td>{'k': 7, 'sim_options': {'name': 'pearson_base...</td>\n",
              "      <td>7</td>\n",
              "      <td>{'name': 'pearson_baseline', 'user_based': True}</td>\n",
              "    </tr>\n",
              "    <tr>\n",
              "      <th>7</th>\n",
              "      <td>1.899394</td>\n",
              "      <td>1.908373</td>\n",
              "      <td>1.894926</td>\n",
              "      <td>1.912016</td>\n",
              "      <td>1.907290</td>\n",
              "      <td>1.904400</td>\n",
              "      <td>0.006276</td>\n",
              "      <td>3</td>\n",
              "      <td>1.493436</td>\n",
              "      <td>1.503133</td>\n",
              "      <td>1.490201</td>\n",
              "      <td>1.512921</td>\n",
              "      <td>1.499909</td>\n",
              "      <td>1.499920</td>\n",
              "      <td>0.007948</td>\n",
              "      <td>3</td>\n",
              "      <td>0.973922</td>\n",
              "      <td>0.015061</td>\n",
              "      <td>0.537700</td>\n",
              "      <td>0.243415</td>\n",
              "      <td>{'k': 8, 'sim_options': {'name': 'pearson_base...</td>\n",
              "      <td>8</td>\n",
              "      <td>{'name': 'pearson_baseline', 'user_based': True}</td>\n",
              "    </tr>\n",
              "    <tr>\n",
              "      <th>8</th>\n",
              "      <td>1.899306</td>\n",
              "      <td>1.908276</td>\n",
              "      <td>1.894846</td>\n",
              "      <td>1.912025</td>\n",
              "      <td>1.907220</td>\n",
              "      <td>1.904334</td>\n",
              "      <td>0.006298</td>\n",
              "      <td>2</td>\n",
              "      <td>1.493353</td>\n",
              "      <td>1.503023</td>\n",
              "      <td>1.490137</td>\n",
              "      <td>1.512925</td>\n",
              "      <td>1.499830</td>\n",
              "      <td>1.499854</td>\n",
              "      <td>0.007970</td>\n",
              "      <td>2</td>\n",
              "      <td>0.979730</td>\n",
              "      <td>0.012643</td>\n",
              "      <td>0.415320</td>\n",
              "      <td>0.004023</td>\n",
              "      <td>{'k': 9, 'sim_options': {'name': 'pearson_base...</td>\n",
              "      <td>9</td>\n",
              "      <td>{'name': 'pearson_baseline', 'user_based': True}</td>\n",
              "    </tr>\n",
              "    <tr>\n",
              "      <th>9</th>\n",
              "      <td>1.899228</td>\n",
              "      <td>1.908260</td>\n",
              "      <td>1.894799</td>\n",
              "      <td>1.912043</td>\n",
              "      <td>1.907199</td>\n",
              "      <td>1.904306</td>\n",
              "      <td>0.006325</td>\n",
              "      <td>1</td>\n",
              "      <td>1.493275</td>\n",
              "      <td>1.503011</td>\n",
              "      <td>1.490094</td>\n",
              "      <td>1.512971</td>\n",
              "      <td>1.499808</td>\n",
              "      <td>1.499832</td>\n",
              "      <td>0.008007</td>\n",
              "      <td>1</td>\n",
              "      <td>0.979082</td>\n",
              "      <td>0.015684</td>\n",
              "      <td>0.540963</td>\n",
              "      <td>0.243601</td>\n",
              "      <td>{'k': 10, 'sim_options': {'name': 'pearson_bas...</td>\n",
              "      <td>10</td>\n",
              "      <td>{'name': 'pearson_baseline', 'user_based': True}</td>\n",
              "    </tr>\n",
              "  </tbody>\n",
              "</table>\n",
              "</div>"
            ],
            "text/plain": [
              "   split0_test_rmse  ...                                 param_sim_options\n",
              "0          1.937827  ...  {'name': 'pearson_baseline', 'user_based': True}\n",
              "1          1.907246  ...  {'name': 'pearson_baseline', 'user_based': True}\n",
              "2          1.901826  ...  {'name': 'pearson_baseline', 'user_based': True}\n",
              "3          1.900223  ...  {'name': 'pearson_baseline', 'user_based': True}\n",
              "4          1.899761  ...  {'name': 'pearson_baseline', 'user_based': True}\n",
              "5          1.899533  ...  {'name': 'pearson_baseline', 'user_based': True}\n",
              "6          1.899430  ...  {'name': 'pearson_baseline', 'user_based': True}\n",
              "7          1.899394  ...  {'name': 'pearson_baseline', 'user_based': True}\n",
              "8          1.899306  ...  {'name': 'pearson_baseline', 'user_based': True}\n",
              "9          1.899228  ...  {'name': 'pearson_baseline', 'user_based': True}\n",
              "\n",
              "[10 rows x 23 columns]"
            ]
          },
          "metadata": {
            "tags": []
          },
          "execution_count": 28
        }
      ]
    },
    {
      "cell_type": "code",
      "metadata": {
        "colab": {
          "base_uri": "https://localhost:8080/",
          "height": 295
        },
        "id": "W_SaCEDpvdMB",
        "outputId": "000aac93-2a4f-4640-f8eb-d3ac9eaeb552"
      },
      "source": [
        "plt.rc(\"font\")\n",
        "plt.plot( results_df[\"param_k\"],results_df[\"mean_test_mae\"],)\n",
        "plt.title(\"mae par rapport au parametre K\")\n",
        "plt.xlabel(\"K\")\n",
        "plt.ylabel(\"mae\")\n",
        "plt.show()"
      ],
      "execution_count": null,
      "outputs": [
        {
          "output_type": "display_data",
          "data": {
            "image/png": "[encoded data removed]",
            "text/plain": [
              "<Figure size 432x288 with 1 Axes>"
            ]
          },
          "metadata": {
            "tags": [],
            "needs_background": "light"
          }
        }
      ]
    },
    {
      "cell_type": "code",
      "metadata": {
        "colab": {
          "base_uri": "https://localhost:8080/"
        },
        "id": "qs6gfX0hwd6b",
        "outputId": "ca15ff05-6eb9-4e73-df49-0f3fa857ea3a"
      },
      "source": [
        "\n",
        "!surprise -algo KNNBasic -params \n"
      ],
      "execution_count": null,
      "outputs": [
        {
          "output_type": "stream",
          "text": [
            "error: argument -params: expected one argument\n",
            "usage: surprise [-h] [-algo <prediction algorithm>]\n",
            "                [-params <algorithm parameters>]\n",
            "                [-load-builtin <dataset name>] [-load-custom <file path>]\n",
            "                [-folds-files <train1 test1 train2 test2... >]\n",
            "                [-reader <reader>] [-n-folds <number of folds>]\n",
            "                [-seed <random seed>] [--with-dump] [-dump-dir <dir>]\n",
            "                [--clean] [-v]\n",
            "\n",
            "Evaluate the performance of a rating prediction algorithm on a given dataset\n",
            "using cross validation. You can use a built-in or a custom dataset, and you\n",
            "can choose to automatically split the dataset into folds, or manually specify\n",
            "train and test files. Please refer to the documentation page\n",
            "(http://surprise.readthedocs.io/) for more details.\n",
            "\n",
            "optional arguments:\n",
            "  -h, --help            show this help message and exit\n",
            "  -algo <prediction algorithm>\n",
            "                        The prediction algorithm to use. Allowed values are\n",
            "                        NormalPredictor, BaselineOnly, KNNBasic, KNNBaseline,\n",
            "                        KNNWithMeans, SVD, SVDpp, NMF, SlopeOne, CoClustering.\n",
            "  -params <algorithm parameters>\n",
            "                        A kwargs dictionary that contains all the algorithm\n",
            "                        parameters.Example: \"{'n_epochs': 10}\".\n",
            "  -load-builtin <dataset name>\n",
            "                        The name of the built-in dataset to use.Allowed values\n",
            "                        are ml-100k, ml-1m, jester. Default is ml-100k.\n",
            "  -load-custom <file path>\n",
            "                        A file path to custom dataset to use. Ignored if\n",
            "                        -loadbuiltin is set. The -reader parameter needs to be\n",
            "                        set.\n",
            "  -folds-files <train1 test1 train2 test2... >\n",
            "                        A list of custom train and test files. Ignored if\n",
            "                        -load-builtin or -load-custom is set. The -reader\n",
            "                        parameter needs to be set.\n",
            "  -reader <reader>      A Reader to read the custom dataset. Example:\n",
            "                        \"Reader(line_format='user item rating timestamp',\n",
            "                        sep='\\t')\"\n",
            "  -n-folds <number of folds>\n",
            "                        The number of folds for cross-validation. Default is\n",
            "                        5.\n",
            "  -seed <random seed>   The seed to use for RNG. Default is the current system\n",
            "                        time.\n",
            "  --with-dump           Dump the algorithm results in a file (one file per\n",
            "                        fold). Default is False.\n",
            "  -dump-dir <dir>       Where to dump the files. Ignored if with-dump is not\n",
            "                        set. Default is /root/.surprise_data/dumps/\n",
            "  --clean               Remove the /root/.surprise_data/ directory and exit.\n",
            "  -v, --version         show program's version number and exit\n",
            "\n",
            "Example: surprise -algo SVD -params \"{'n_epochs': 5, 'verbose': True}\" -load-\n",
            "builtin ml-100k -n-folds 3\n"
          ],
          "name": "stdout"
        }
      ]
    },
    {
      "cell_type": "code",
      "metadata": {
        "id": "9QwFTcPSvS0a"
      },
      "source": [
        ""
      ],
      "execution_count": null,
      "outputs": []
    },
    {
      "cell_type": "code",
      "metadata": {
        "id": "2tYZ6DErt2iI"
      },
      "source": [
        "param_grid = {'k': [1,2,3,4,5,6,7,8,9,10],\n",
        "              'sim_options': {'name': ['pearson_baseline'],\n",
        "                              \n",
        "                              'user_based': [True]}\n",
        "              }\n",
        "gs = GridSearchCV(SVD, param_grid, measures=['rmse', 'mae'])\n",
        "\n",
        "gs.fit(data1)\n",
        "\n",
        "# best RMSE score\n",
        "print(gs.best_score['rmse'])\n",
        "\n",
        "# combination of parameters that gave the best RMSE score\n",
        "print(gs.best_params['rmse'])"
      ],
      "execution_count": null,
      "outputs": []
    },
    {
      "cell_type": "markdown",
      "metadata": {
        "id": "gCbmXugcdm2b"
      },
      "source": [
        "dapres les resultat \\\\\n",
        "on remarque que svd donne les meilleur resultat sur notre dataset\n"
      ]
    }
  ]
}