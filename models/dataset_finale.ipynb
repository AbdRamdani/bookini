{
  "nbformat": 4,
  "nbformat_minor": 0,
  "metadata": {
    "colab": {
      "name": "dataset-finale.ipynb",
      "provenance": [],
      "collapsed_sections": []
    },
    "kernelspec": {
      "display_name": "Python 3",
      "name": "python3"
    },
    "language_info": {
      "name": "python"
    }
  },
  "cells": [
    {
      "cell_type": "code",
      "metadata": {
        "colab": {
          "base_uri": "https://localhost:8080/"
        },
        "id": "bK1kkGA27dRm",
        "outputId": "17a97cf8-8af2-4de6-d9bb-f8323c0bfbcd"
      },
      "source": [
        "!pip install kaggle"
      ],
      "execution_count": null,
      "outputs": [
        {
          "output_type": "stream",
          "text": [
            "Requirement already satisfied: kaggle in /usr/local/lib/python3.7/dist-packages (1.5.12)\n",
            "Requirement already satisfied: certifi in /usr/local/lib/python3.7/dist-packages (from kaggle) (2020.12.5)\n",
            "Requirement already satisfied: python-dateutil in /usr/local/lib/python3.7/dist-packages (from kaggle) (2.8.1)\n",
            "Requirement already satisfied: tqdm in /usr/local/lib/python3.7/dist-packages (from kaggle) (4.41.1)\n",
            "Requirement already satisfied: six>=1.10 in /usr/local/lib/python3.7/dist-packages (from kaggle) (1.15.0)\n",
            "Requirement already satisfied: requests in /usr/local/lib/python3.7/dist-packages (from kaggle) (2.23.0)\n",
            "Requirement already satisfied: urllib3 in /usr/local/lib/python3.7/dist-packages (from kaggle) (1.24.3)\n",
            "Requirement already satisfied: python-slugify in /usr/local/lib/python3.7/dist-packages (from kaggle) (5.0.2)\n",
            "Requirement already satisfied: idna<3,>=2.5 in /usr/local/lib/python3.7/dist-packages (from requests->kaggle) (2.10)\n",
            "Requirement already satisfied: chardet<4,>=3.0.2 in /usr/local/lib/python3.7/dist-packages (from requests->kaggle) (3.0.4)\n",
            "Requirement already satisfied: text-unidecode>=1.3 in /usr/local/lib/python3.7/dist-packages (from python-slugify->kaggle) (1.3)\n"
          ],
          "name": "stdout"
        }
      ]
    },
    {
      "cell_type": "code",
      "metadata": {
        "colab": {
          "resources": {
            "http://localhost:8080/nbextensions/google.colab/files.js": {
              "data": "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",
              "ok": true,
              "headers": [
                [
                  "content-type",
                  "application/javascript"
                ]
              ],
              "status": 200,
              "status_text": ""
            }
          },
          "base_uri": "https://localhost:8080/",
          "height": 89
        },
        "id": "2vntbvTL7f6V",
        "outputId": "1a7cecec-8f5d-4739-8aee-aab745b7aad2"
      },
      "source": [
        "from google.colab import files\n",
        "files.upload()\n"
      ],
      "execution_count": null,
      "outputs": [
        {
          "output_type": "display_data",
          "data": {
            "text/html": [
              "\n",
              "     <input type=\"file\" id=\"files-e0bb1180-3bf1-4c4d-84af-a94056217a2a\" name=\"files[]\" multiple disabled\n",
              "        style=\"border:none\" />\n",
              "     <output id=\"result-e0bb1180-3bf1-4c4d-84af-a94056217a2a\">\n",
              "      Upload widget is only available when the cell has been executed in the\n",
              "      current browser session. Please rerun this cell to enable.\n",
              "      </output>\n",
              "      <script src=\"/nbextensions/google.colab/files.js\"></script> "
            ],
            "text/plain": [
              "<IPython.core.display.HTML object>"
            ]
          },
          "metadata": {
            "tags": []
          }
        },
        {
          "output_type": "stream",
          "text": [
            "Saving kaggle.json to kaggle.json\n"
          ],
          "name": "stdout"
        },
        {
          "output_type": "execute_result",
          "data": {
            "text/plain": [
              "{'kaggle.json': b'{\"username\":\"abdramdani\",\"key\":\"0850d17ece69fcc4d3fdbf3d1fa789d4\"}'}"
            ]
          },
          "metadata": {
            "tags": []
          },
          "execution_count": 2
        }
      ]
    },
    {
      "cell_type": "code",
      "metadata": {
        "id": "m1sN_0A67f80"
      },
      "source": [
        "! mkdir ~/.kaggle\n",
        "! cp kaggle.json ~/.kaggle/\n",
        "\n",
        "! chmod 600 ~/.kaggle/kaggle.json"
      ],
      "execution_count": null,
      "outputs": []
    },
    {
      "cell_type": "code",
      "metadata": {
        "colab": {
          "base_uri": "https://localhost:8080/"
        },
        "id": "0f3Dv-Mx7f_L",
        "outputId": "228484ae-8f61-46b0-ab1b-70c007ee2395"
      },
      "source": [
        " \n",
        "!kaggle datasets download -d ruchi798/bookcrossing-dataset"
      ],
      "execution_count": null,
      "outputs": [
        {
          "output_type": "stream",
          "text": [
            "Downloading bookcrossing-dataset.zip to /content\n",
            " 75% 57.0M/76.1M [00:01<00:00, 44.3MB/s]\n",
            "100% 76.1M/76.1M [00:01<00:00, 67.9MB/s]\n"
          ],
          "name": "stdout"
        }
      ]
    },
    {
      "cell_type": "code",
      "metadata": {
        "colab": {
          "base_uri": "https://localhost:8080/"
        },
        "id": "5cofZT5g7gBh",
        "outputId": "007503fa-5921-476d-b105-4f32546b2997"
      },
      "source": [
        "#code to extract bookcrossing-dataset.zip\n",
        "from zipfile import ZipFile\n",
        "file_name=\"bookcrossing-dataset.zip\"\n",
        "with ZipFile(file_name,'r') as zip:\n",
        "  zip.extractall()\n",
        "  print(\"done\")\n"
      ],
      "execution_count": null,
      "outputs": [
        {
          "output_type": "stream",
          "text": [
            "done\n"
          ],
          "name": "stdout"
        }
      ]
    },
    {
      "cell_type": "code",
      "metadata": {
        "id": "fZYRW6PK7gD0"
      },
      "source": [
        "#import\n",
        "import pandas as pd\n",
        "import numpy as np \n",
        "import matplotlib.pyplot as plt\n",
        "\n"
      ],
      "execution_count": null,
      "outputs": []
    },
    {
      "cell_type": "code",
      "metadata": {
        "id": "XKv7bfDl7gGA"
      },
      "source": [
        "books_data=pd.read_csv(\"/content/Books Data with Category Language and Summary/Preprocessed_data.csv\",low_memory=False)\n",
        "books_rat=pd.read_csv(\"/content/Book reviews/Book reviews/BX-Book-Ratings.csv\",sep=';', encoding='latin-1',low_memory=False)\n",
        "users=pd.read_csv(\"/content/Book reviews/Book reviews/BX-Users.csv\",sep=';', encoding='latin-1',low_memory=False)"
      ],
      "execution_count": null,
      "outputs": []
    },
    {
      "cell_type": "markdown",
      "metadata": {
        "id": "pZ8cd7Fh8D3s"
      },
      "source": [
        "1) le traitement sur le dataset books_data\n",
        "-jenleve les columns non utilisé \n",
        "-les isbn qui se repete \n",
        "-les livres avec le problem de description =9 \n"
      ]
    },
    {
      "cell_type": "code",
      "metadata": {
        "colab": {
          "base_uri": "https://localhost:8080/"
        },
        "id": "3kcevTuc8DA1",
        "outputId": "e0d3840d-5264-4b8d-ae77-5e7bf8262e0b"
      },
      "source": [
        "books_data=books_data.rename(columns={\"isbn\":\"ISBN\"})\n",
        "print(books_data.shape,\"\\n\",list(books_data.columns))\n"
      ],
      "execution_count": null,
      "outputs": [
        {
          "output_type": "stream",
          "text": [
            "(1031175, 19) \n",
            " ['Unnamed: 0', 'user_id', 'location', 'age', 'ISBN', 'rating', 'book_title', 'book_author', 'year_of_publication', 'publisher', 'img_s', 'img_m', 'img_l', 'Summary', 'Language', 'Category', 'city', 'state', 'country']\n"
          ],
          "name": "stdout"
        }
      ]
    },
    {
      "cell_type": "code",
      "metadata": {
        "id": "JYHhWVc_7gIi"
      },
      "source": [
        "drop_c=['user_id','Unnamed: 0','age', 'location' , 'city', 'state', 'country',\"rating\"]\n",
        "books_data=books_data.drop(drop_c,axis=1)"
      ],
      "execution_count": null,
      "outputs": []
    },
    {
      "cell_type": "code",
      "metadata": {
        "colab": {
          "base_uri": "https://localhost:8080/"
        },
        "id": "V71jqXMM7gKz",
        "outputId": "b60f2085-ae07-436c-9e8d-c182439cd509"
      },
      "source": [
        "books_data=books_data.drop_duplicates(subset=\"ISBN\") \n",
        "books_data=books_data.drop_duplicates(subset=\"Summary\")\n",
        "#on enleve les column avec l'erreur de 9 \n",
        "books_data=books_data[books_data[\"Summary\"]!=\"9\"]\n",
        "books_data=books_data[books_data[\"Category\"]!=\"9\"]\n",
        "#je garde que les livres en anglais \n",
        "books_data=books_data[books_data[\"Language\"]==\"en\"]\n",
        "print(books_data.shape)"
      ],
      "execution_count": null,
      "outputs": [
        {
          "output_type": "stream",
          "text": [
            "(129982, 11)\n"
          ],
          "name": "stdout"
        }
      ]
    },
    {
      "cell_type": "code",
      "metadata": {
        "colab": {
          "base_uri": "https://localhost:8080/",
          "height": 298
        },
        "id": "SXcVZuyX_pTI",
        "outputId": "e64192a4-dff9-4ebf-9fbb-b4fe0f6c1352"
      },
      "source": [
        "#distrubution des ratting with 0 \n",
        "plt.rc(\"font\")\n",
        "books_rat[\"Book-Rating\"].value_counts(sort=False).plot(kind=\"bar\")\n",
        "plt.title(\"distrucition des notes\")\n",
        "plt.xlabel(\"note\")\n",
        "plt.ylabel(\"nombre\")\n",
        "plt.show()"
      ],
      "execution_count": null,
      "outputs": [
        {
          "output_type": "display_data",
          "data": {
            "image/png": "[encoded data removed]",
            "text/plain": [
              "<Figure size 432x288 with 1 Axes>"
            ]
          },
          "metadata": {
            "tags": [],
            "needs_background": "light"
          }
        }
      ]
    },
    {
      "cell_type": "markdown",
      "metadata": {
        "id": "zQJPvdmP_r6F"
      },
      "source": [
        "jajoute 2 columns de average rating et la somme des notes \\\\\n",
        "jutilise le dataset des notes \\\\\n",
        "jenleve les notes 0 \\\\\n",
        "jenleve les livres qui ne se trouve pas dans mon dataset d'user"
      ]
    },
    {
      "cell_type": "code",
      "metadata": {
        "colab": {
          "base_uri": "https://localhost:8080/"
        },
        "id": "_RJs80pHAHpC",
        "outputId": "fa6536e8-9b39-40e1-89e6-b668a720b160"
      },
      "source": [
        "\n",
        "#add two column average & somme rating \n",
        "#keeping only explicit rattings #0\n",
        "print(\"dataset des rating avant : \",books_rat.shape,books_rat[\"ISBN\"].nunique(),books_rat[\"User-ID\"].nunique())\n",
        "books_rat_nnul=books_rat[books_rat[\"Book-Rating\"]!=0]\n",
        "print(\"dataset des rating apres l'elimination des valeurs ==0 : \",books_rat_nnul.shape,books_rat_nnul[\"ISBN\"].nunique(),books_rat_nnul[\"User-ID\"].nunique())\n",
        "\n",
        "\n",
        "#average_rating\n",
        "average_book=pd.DataFrame(books_rat_nnul.groupby(\"ISBN\")[\"Book-Rating\"].mean()).reset_index().rename(columns={\"Book-Rating\":\"average_rating\"})\n",
        "#average_book.sort_values(by=\"average_rating\",ascending=False)\n",
        "\n",
        "books_data=pd.merge(books_data,average_book, on =\"ISBN\")\n",
        "\n",
        "#somme rating\n",
        "book_rating_Count=(books_rat_nnul.groupby(by=[\"ISBN\"])[\"Book-Rating\"].count().reset_index().\n",
        "                   rename(columns={\"Book-Rating\":\"SommeRating\"}))\n",
        "books_data=pd.merge(books_data,book_rating_Count, on =\"ISBN\")\n",
        "print(books_data.shape)\n",
        "#books_data"
      ],
      "execution_count": null,
      "outputs": [
        {
          "output_type": "stream",
          "text": [
            "dataset des rating avant :  (1149780, 3) 340556 105283\n",
            "dataset des rating apres l'elimination des valeurs ==0 :  (433671, 3) 185973 77805\n",
            "(75288, 13)\n"
          ],
          "name": "stdout"
        }
      ]
    },
    {
      "cell_type": "code",
      "metadata": {
        "colab": {
          "base_uri": "https://localhost:8080/"
        },
        "id": "3bSy8rCq1Ybb",
        "outputId": "fd892400-4668-4efa-fa84-4c6991166f03"
      },
      "source": [
        "#remove implicit rating =0\n",
        "books_rating=pd.merge(books_rat_nnul,books_data[\"ISBN\"],on=\"ISBN\")\n",
        "print(books_rating.shape,books_rating.columns)"
      ],
      "execution_count": null,
      "outputs": [
        {
          "output_type": "stream",
          "text": [
            "(216926, 3) Index(['User-ID', 'ISBN', 'Book-Rating'], dtype='object')\n"
          ],
          "name": "stdout"
        }
      ]
    },
    {
      "cell_type": "code",
      "metadata": {
        "colab": {
          "base_uri": "https://localhost:8080/"
        },
        "id": "q9CddYRoI8__",
        "outputId": "5990a37f-ef87-4299-c86e-d3abd39a9d01"
      },
      "source": [
        "\n",
        "#user with >15 ratting\n",
        "print(books_rating.shape,books_rating[\"User-ID\"].nunique(),books_rating[\"ISBN\"].nunique())\n",
        "#groupe1= books_rat_nnul[\"User-ID\"].value_counts()\n",
        "groupe1=pd.DataFrame(books_rating.groupby(\"User-ID\")[\"ISBN\"].count()).reset_index().rename(columns={\"ISBN\":\"Nb_book_rated\"})\n",
        "print(groupe1.shape)\n",
        "groupe1=groupe1.query(\"Nb_book_rated >=15\")\n",
        "print(groupe1.shape)\n",
        "books_rat2=pd.merge(books_rating,groupe1[\"User-ID\"], on =\"User-ID\",how=\"inner\")\n",
        "print(books_rat2.shape,books_rat2[\"User-ID\"].nunique(),books_rat2[\"ISBN\"].nunique())"
      ],
      "execution_count": null,
      "outputs": [
        {
          "output_type": "stream",
          "text": [
            "(216926, 3) 46162 75288\n",
            "(46162, 2)\n",
            "(2563, 2)\n",
            "(118152, 3) 2563 55031\n"
          ],
          "name": "stdout"
        }
      ]
    },
    {
      "cell_type": "code",
      "metadata": {
        "colab": {
          "base_uri": "https://localhost:8080/"
        },
        "id": "XSXfBEr1I9Jf",
        "outputId": "8fc9364d-4c7b-429e-c4c8-605d6ca13db0"
      },
      "source": [
        "#only books that exist in books_rat2\n",
        "books_rat_isbn=books_rat2.drop_duplicates(subset=\"ISBN\")\n",
        "print(books_rat_isbn.shape)\n",
        "books_data2=pd.merge(books_data,books_rat_isbn[\"ISBN\"], on =\"ISBN\",how=\"inner\")\n",
        "print(books_data2.shape,books_rat2[\"ISBN\"].nunique())"
      ],
      "execution_count": null,
      "outputs": [
        {
          "output_type": "stream",
          "text": [
            "(55031, 3)\n",
            "(55031, 13) 55031\n"
          ],
          "name": "stdout"
        }
      ]
    },
    {
      "cell_type": "code",
      "metadata": {
        "colab": {
          "base_uri": "https://localhost:8080/"
        },
        "id": "5LI2BtAjJeEa",
        "outputId": "fd628c30-2cec-4c78-fe6c-1221e889088d"
      },
      "source": [
        "#only users that exist in new books_rating\n",
        "users=users.merge((books_rat2.drop_duplicates(subset=\"User-ID\"))[\"User-ID\"],on=\"User-ID\",how=\"inner\")\n",
        "users.shape"
      ],
      "execution_count": null,
      "outputs": [
        {
          "output_type": "execute_result",
          "data": {
            "text/plain": [
              "(2563, 3)"
            ]
          },
          "metadata": {
            "tags": []
          },
          "execution_count": 42
        }
      ]
    },
    {
      "cell_type": "code",
      "metadata": {
        "colab": {
          "base_uri": "https://localhost:8080/",
          "height": 298
        },
        "id": "5Ffq0bws1URg",
        "outputId": "460a0519-e997-4896-d365-f75c661082a1"
      },
      "source": [
        "\n",
        "#distrubution des notes sans les 0 apres  \n",
        "plt.rc(\"font\")\n",
        "books_rat2[\"Book-Rating\"].value_counts(sort=False).plot(kind=\"bar\")\n",
        "plt.title(\"distrucition des notes\")\n",
        "plt.xlabel(\"note\")\n",
        "plt.ylabel(\"nombre\")\n",
        "plt.show()\n"
      ],
      "execution_count": null,
      "outputs": [
        {
          "output_type": "display_data",
          "data": {
            "image/png": "[encoded data removed]",
            "text/plain": [
              "<Figure size 432x288 with 1 Axes>"
            ]
          },
          "metadata": {
            "tags": [],
            "needs_background": "light"
          }
        }
      ]
    },
    {
      "cell_type": "code",
      "metadata": {
        "colab": {
          "base_uri": "https://localhost:8080/",
          "height": 295
        },
        "id": "vUGpeasZSZGK",
        "outputId": "cd77a19d-4812-49fd-fe7c-c7a83222e3b7"
      },
      "source": [
        "#\n",
        "\n",
        "users[\"Age\"].hist(bins=[0,10,20,30,40,50,60,70,80,90])\n",
        "plt.title(\"distribution d'age\")\n",
        "plt.xlabel(\"age\")\n",
        "plt.ylabel(\"nombre\")\n",
        "plt.show()\n"
      ],
      "execution_count": null,
      "outputs": [
        {
          "output_type": "display_data",
          "data": {
            "image/png": "[encoded data removed]",
            "text/plain": [
              "<Figure size 432x288 with 1 Axes>"
            ]
          },
          "metadata": {
            "tags": [],
            "needs_background": "light"
          }
        }
      ]
    },
    {
      "cell_type": "markdown",
      "metadata": {
        "id": "LZYYozFxMqO2"
      },
      "source": [
        ""
      ]
    },
    {
      "cell_type": "markdown",
      "metadata": {
        "id": "GC4_Jp5XJm21"
      },
      "source": [
        "au fianl \\\\ les resultat changer ..\n",
        "apres elimination des livres avec des summary ==\"9\" \\\\\n",
        "des livres dans le dataset des rating qui ont été evalué qu'avec 0  \\\\\n",
        "on a 527255 rating, 78951 livres ,  62975 utilisateur \\\\\n",
        "si jelimine les utilisateur ou il ont noté des livres par 0 je trouve \\\\\n",
        "234253 rating, 82478 livres , 49979 utilisateur \\\\\n",
        "pour le dataset des livres \\\\\n",
        "livres avec average rating >6 : 62127 \\\\\n",
        "livres avec average rating <= 6 : 16824 \\\\\n",
        "livres avec somme rating >=10 : 3570  \\\\ \n",
        "livres avec somme rating <10 : 75381  \\\\\n",
        " pour les rating \\\\\n",
        " cas       | utilisateur >=15| utilisateur <15 \\\\\n",
        " ____________\n",
        " sans les 0|    5016 |57959                      \\\\\n",
        " ____________\n",
        " avec les 0|   2693 | 44843                                 \\\\\n",
        " __________\n",
        " "
      ]
    },
    {
      "cell_type": "code",
      "metadata": {
        "colab": {
          "base_uri": "https://localhost:8080/"
        },
        "id": "c7xP4g83NoTI",
        "outputId": "936bd28a-a4f2-40fb-ac05-4e9f164604a1"
      },
      "source": [
        "#pour le traiment de Summary\n",
        "!pip install nltk "
      ],
      "execution_count": null,
      "outputs": [
        {
          "output_type": "stream",
          "text": [
            "Requirement already satisfied: nltk in /usr/local/lib/python3.7/dist-packages (3.2.5)\n",
            "Requirement already satisfied: six in /usr/local/lib/python3.7/dist-packages (from nltk) (1.15.0)\n"
          ],
          "name": "stdout"
        }
      ]
    },
    {
      "cell_type": "code",
      "metadata": {
        "id": "D-QiewSENoWQ",
        "colab": {
          "base_uri": "https://localhost:8080/"
        },
        "outputId": "dddd2b0a-2bda-446b-bd21-f221fa362df7"
      },
      "source": [
        "import nltk\n",
        "from nltk.corpus import stopwords\n",
        "from nltk.tokenize import word_tokenize\n",
        "from nltk.stem import PorterStemmer\n",
        "from nltk.stem.wordnet import WordNetLemmatizer #\n",
        "\n",
        "nltk.download('stopwords')\n",
        "nltk.download('punkt')\n",
        "nltk.download('wordnet') #"
      ],
      "execution_count": null,
      "outputs": [
        {
          "output_type": "stream",
          "text": [
            "[nltk_data] Downloading package stopwords to /root/nltk_data...\n",
            "[nltk_data]   Unzipping corpora/stopwords.zip.\n",
            "[nltk_data] Downloading package punkt to /root/nltk_data...\n",
            "[nltk_data]   Unzipping tokenizers/punkt.zip.\n",
            "[nltk_data] Downloading package wordnet to /root/nltk_data...\n",
            "[nltk_data]   Unzipping corpora/wordnet.zip.\n"
          ],
          "name": "stdout"
        },
        {
          "output_type": "execute_result",
          "data": {
            "text/plain": [
              "True"
            ]
          },
          "metadata": {
            "tags": []
          },
          "execution_count": 2
        }
      ]
    },
    {
      "cell_type": "code",
      "metadata": {
        "id": "yOdOZItFNoZQ"
      },
      "source": [
        "#tokenizatoin \n",
        "def tok(text):\n",
        "  return word_tokenize(str(text))\n"
      ],
      "execution_count": null,
      "outputs": []
    },
    {
      "cell_type": "code",
      "metadata": {
        "id": "4rKAt10cNocW"
      },
      "source": [
        "#on enleve les ponctuation \n",
        "def enleve_ponct(text):\n",
        "  #symbols = \"!\\\"#$%&()*+-./:;<=>?@[\\]^_`{|}~\\n\"\n",
        "  symbols = \"!\\\"0123456789#$%'&()*+-./:;<=>?@[\\]^_`{|}~\\n\"\n",
        "  for i in range(len(symbols)):\n",
        "      text = np.char.replace(text, symbols[i], ' ')\n",
        "      text = np.char.replace(text, \"  \", \" \")\n",
        "  text = np.char.replace(text, ',', '')\n",
        "  return str(text)\n",
        "  "
      ],
      "execution_count": null,
      "outputs": []
    },
    {
      "cell_type": "code",
      "metadata": {
        "colab": {
          "base_uri": "https://localhost:8080/"
        },
        "id": "orTB8FOL7dnX",
        "outputId": "286bac13-b3ce-4a9d-fd25-f45f48f02b87"
      },
      "source": [
        "#z=\"Harry Potter is a series of seven fantasy novels written by British author J. K. Rowling. The novels chronicle the lives of a young wizard, Harry Potter, and his friends Hermione Granger and Ron Weasley, all of whom are students at Hogwarts School of Witchcraft and Wizardry.\"\n",
        "print(\"input : \",z)\n",
        "z=tok(z)\n",
        "print(\"output : \",z)"
      ],
      "execution_count": null,
      "outputs": [
        {
          "output_type": "stream",
          "text": [
            "input :   harry potter series seven fantasy novels written british author rowling novels chronicle lives young wizard harry potter friends hermione granger ron weasley students hogwarts school witchcraft wizardry\n",
            "output :  ['harry', 'potter', 'series', 'seven', 'fantasy', 'novels', 'written', 'british', 'author', 'rowling', 'novels', 'chronicle', 'lives', 'young', 'wizard', 'harry', 'potter', 'friends', 'hermione', 'granger', 'ron', 'weasley', 'students', 'hogwarts', 'school', 'witchcraft', 'wizardry']\n"
          ],
          "name": "stdout"
        }
      ]
    },
    {
      "cell_type": "code",
      "metadata": {
        "colab": {
          "base_uri": "https://localhost:8080/"
        },
        "id": "wukMGqDHAIMZ",
        "outputId": "d10d6462-fe15-4f91-e903-a0088846b080"
      },
      "source": [
        "a=tok(z)\n",
        "print(a)"
      ],
      "execution_count": null,
      "outputs": [
        {
          "output_type": "stream",
          "text": [
            "['harri', 'potter', 'seri', 'seven', 'fantasi', 'novel', 'written', 'british', 'author', 'rowl', 'novel', 'chronicl', 'live', 'young', 'wizard', 'harri', 'potter', 'friend', 'hermion', 'granger', 'ron', 'weasley', 'student', 'hogwart', 'school', 'witchcraft', 'wizardri']\n"
          ],
          "name": "stdout"
        }
      ]
    },
    {
      "cell_type": "code",
      "metadata": {
        "id": "3qpzYAUc8kzm"
      },
      "source": [
        "input : Harry Potter is a series of seven fantasy novels written by British author J. K. Rowling !. The novels \n",
        "        chronicle the lives of a young wizard, Harry Potter, and his friends Hermione Granger and Ron Weasley\n",
        "        , all of whom are students at Hogwarts School of Witchcraft and Wizardry.\"\n",
        "\n",
        "input: harry potter is a series of seven fantasy novels written by british author j k rowling the novels \n",
        "        chronicle the lives of a young wizard harry potter and his friends hermione granger and ron weasley \n",
        "        all of whom are students at hogwarts school of witchcraft and wizardry\n",
        "\n",
        "input:['harry', 'potter', 'is', 'a', 'series', 'of', 'seven', 'fantasy', 'novels', 'written', 'by', 'british'\n",
        "      , 'author', 'j', 'k', 'rowling', 'the', 'novels', 'chronicle', 'the', 'lives', 'of', 'a', 'young', 'wizard'\n",
        "      , 'harry', 'potter', 'and', 'his', 'friends', 'hermione', 'granger', 'and', 'ron', 'weasley', 'all', 'of', 'whom'\n",
        "      , 'are', 'students', 'at', 'hogwarts', 'school', 'of', 'witchcraft', 'and', 'wizardry']\n",
        "\n",
        "input:['harry', 'potter', 'series', 'seven', 'fantasy', 'novels', 'written', 'british', 'author', 'rowling'\n",
        "      , 'novels', 'chronicle', 'lives', 'young', 'wizard', 'harry', 'potter', 'friends', 'hermione', 'granger'\n",
        "      , 'ron', 'weasley', 'students', 'hogwarts', 'school', 'witchcraft', 'wizardry']\n",
        "\n",
        "output:['harry', 'potter', 'series', 'seven', 'fantasy', 'novels', 'written', 'british', 'author', 'rowling'\n",
        "      , 'novels', 'chronicle', 'lives', 'young', 'wizard', 'harry', 'potter', 'friends', 'hermione', 'granger'\n",
        "      , 'ron', 'weasley', 'students', 'hogwarts', 'school', 'witchcraft', 'wizardry']\n"
      ],
      "execution_count": null,
      "outputs": []
    },
    {
      "cell_type": "markdown",
      "metadata": {
        "id": "6a4LdHaj_rSq"
      },
      "source": [
        ""
      ]
    },
    {
      "cell_type": "code",
      "metadata": {
        "id": "-XBr0peINoe2"
      },
      "source": [
        "# le text en miniscule \n",
        "def miniscule(text):\n",
        "  return str(np.char.lower(text))\n",
        "  #return text.lower() "
      ],
      "execution_count": null,
      "outputs": []
    },
    {
      "cell_type": "code",
      "metadata": {
        "id": "w80BFlbENohg"
      },
      "source": [
        "#stop words\n",
        "def remove_stop_words(text):\n",
        "  stop_words = stopwords.words('english')\n",
        "  words = word_tokenize(str(text))\n",
        "  new_text = \"\"\n",
        "  for w in words:\n",
        "    if w not in stop_words and len(w) > 2:# and (not w.isdigit()):\n",
        "      new_text = new_text + \" \" + w\n",
        "  return new_text"
      ],
      "execution_count": null,
      "outputs": []
    },
    {
      "cell_type": "code",
      "metadata": {
        "id": "_eZG1UNbN3YL"
      },
      "source": [
        "#Stemming connection connected ... -> connect \n",
        "def stemm(text):\n",
        "  ps=PorterStemmer()\n",
        "  new_text=\"\"\n",
        "  words=word_tokenize(str(text))\n",
        "  for word in words:\n",
        "    new_text=new_text+\" \"+ps.stem(word)\n",
        "  return new_text\n"
      ],
      "execution_count": null,
      "outputs": []
    },
    {
      "cell_type": "code",
      "metadata": {
        "id": "gm8aUhZgN3bT"
      },
      "source": [
        "#Lemmatization\n",
        "def lemm(text):\n",
        "  lem = WordNetLemmatizer()\n",
        "  new_text=\"\"\n",
        "  words=word_tokenize(str(text))\n",
        "  for word in words:\n",
        "    new_text=new_text+\" \"+lem.lemmatize(word,\"v\")\n",
        "  return new_text"
      ],
      "execution_count": null,
      "outputs": []
    },
    {
      "cell_type": "code",
      "metadata": {
        "id": "6N12PsfuN3eT"
      },
      "source": [
        "def traitement(row):\n",
        "  text=row[\"Summary\"]\n",
        "  text=enleve_ponct(text)\n",
        "  text=miniscule(text)\n",
        "  #text=stemm(text)\n",
        "  text=remove_stop_words(text)\n",
        "  #text=tok(text)\n",
        "  #text=lemm(text)\n",
        "  return text"
      ],
      "execution_count": null,
      "outputs": []
    },
    {
      "cell_type": "code",
      "metadata": {
        "colab": {
          "base_uri": "https://localhost:8080/",
          "height": 52
        },
        "id": "ChpDGll8wnTf",
        "outputId": "61fd170d-a834-429a-946a-9e24de3147e5"
      },
      "source": [
        "\"\"\"\n",
        "# i save the 3 new dataset\n",
        "books_data[\"Text\"]=books_data.apply(traitement,axis=1)\n",
        "books_data.to_csv('books_data_text_notoken.csv') \n",
        "files.download('books_data_text_notoken.csv')\n",
        "\"\"\""
      ],
      "execution_count": null,
      "outputs": [
        {
          "output_type": "execute_result",
          "data": {
            "application/vnd.google.colaboratory.intrinsic+json": {
              "type": "string"
            },
            "text/plain": [
              "'\\n# i save the 3 new dataset\\nbooks_data[\"Text\"]=books_data.apply(traitement,axis=1)\\nbooks_data.to_csv(\\'books_data_text_notoken.csv\\') \\nfiles.download(\\'books_data_text_notoken.csv\\')\\n'"
            ]
          },
          "metadata": {
            "tags": []
          },
          "execution_count": 25
        }
      ]
    },
    {
      "cell_type": "code",
      "metadata": {
        "id": "aSY6NHEbZAQB",
        "colab": {
          "base_uri": "https://localhost:8080/",
          "height": 1000
        },
        "outputId": "fbf72668-b556-4c00-f113-7d3e3ee5ea0a"
      },
      "source": [
        "#books category\n",
        "\n",
        "category=pd.DataFrame(books_data2.groupby(\"Category\")[\"ISBN\"].count()).reset_index().rename(columns={\"ISBN\":\"nb\"})\n",
        "(category.sort_values(by=\"nb\",ascending=False)).head(37)"
      ],
      "execution_count": null,
      "outputs": [
        {
          "output_type": "execute_result",
          "data": {
            "text/html": [
              "<div>\n",
              "<style scoped>\n",
              "    .dataframe tbody tr th:only-of-type {\n",
              "        vertical-align: middle;\n",
              "    }\n",
              "\n",
              "    .dataframe tbody tr th {\n",
              "        vertical-align: top;\n",
              "    }\n",
              "\n",
              "    .dataframe thead th {\n",
              "        text-align: right;\n",
              "    }\n",
              "</style>\n",
              "<table border=\"1\" class=\"dataframe\">\n",
              "  <thead>\n",
              "    <tr style=\"text-align: right;\">\n",
              "      <th></th>\n",
              "      <th>Category</th>\n",
              "      <th>nb</th>\n",
              "    </tr>\n",
              "  </thead>\n",
              "  <tbody>\n",
              "    <tr>\n",
              "      <th>1711</th>\n",
              "      <td>['Fiction']</td>\n",
              "      <td>24200</td>\n",
              "    </tr>\n",
              "    <tr>\n",
              "      <th>2120</th>\n",
              "      <td>['Juvenile Fiction']</td>\n",
              "      <td>4060</td>\n",
              "    </tr>\n",
              "    <tr>\n",
              "      <th>673</th>\n",
              "      <td>['Biography &amp; Autobiography']</td>\n",
              "      <td>2100</td>\n",
              "    </tr>\n",
              "    <tr>\n",
              "      <th>1939</th>\n",
              "      <td>['History']</td>\n",
              "      <td>1239</td>\n",
              "    </tr>\n",
              "    <tr>\n",
              "      <th>2638</th>\n",
              "      <td>['Religion']</td>\n",
              "      <td>1117</td>\n",
              "    </tr>\n",
              "    <tr>\n",
              "      <th>2121</th>\n",
              "      <td>['Juvenile Nonfiction']</td>\n",
              "      <td>1012</td>\n",
              "    </tr>\n",
              "    <tr>\n",
              "      <th>2010</th>\n",
              "      <td>['Humor']</td>\n",
              "      <td>870</td>\n",
              "    </tr>\n",
              "    <tr>\n",
              "      <th>1242</th>\n",
              "      <td>['Cooking']</td>\n",
              "      <td>801</td>\n",
              "    </tr>\n",
              "    <tr>\n",
              "      <th>2755</th>\n",
              "      <td>['Social Science']</td>\n",
              "      <td>797</td>\n",
              "    </tr>\n",
              "    <tr>\n",
              "      <th>730</th>\n",
              "      <td>['Body, Mind &amp; Spirit']</td>\n",
              "      <td>782</td>\n",
              "    </tr>\n",
              "    <tr>\n",
              "      <th>1902</th>\n",
              "      <td>['Health &amp; Fitness']</td>\n",
              "      <td>625</td>\n",
              "    </tr>\n",
              "    <tr>\n",
              "      <th>829</th>\n",
              "      <td>['Business &amp; Economics']</td>\n",
              "      <td>615</td>\n",
              "    </tr>\n",
              "    <tr>\n",
              "      <th>1657</th>\n",
              "      <td>['Family &amp; Relationships']</td>\n",
              "      <td>601</td>\n",
              "    </tr>\n",
              "    <tr>\n",
              "      <th>413</th>\n",
              "      <td>['Art']</td>\n",
              "      <td>410</td>\n",
              "    </tr>\n",
              "    <tr>\n",
              "      <th>1180</th>\n",
              "      <td>['Computers']</td>\n",
              "      <td>410</td>\n",
              "    </tr>\n",
              "    <tr>\n",
              "      <th>2540</th>\n",
              "      <td>['Poetry']</td>\n",
              "      <td>406</td>\n",
              "    </tr>\n",
              "    <tr>\n",
              "      <th>2705</th>\n",
              "      <td>['Self-Help']</td>\n",
              "      <td>399</td>\n",
              "    </tr>\n",
              "    <tr>\n",
              "      <th>2696</th>\n",
              "      <td>['Science']</td>\n",
              "      <td>395</td>\n",
              "    </tr>\n",
              "    <tr>\n",
              "      <th>2198</th>\n",
              "      <td>['Literary Criticism']</td>\n",
              "      <td>394</td>\n",
              "    </tr>\n",
              "    <tr>\n",
              "      <th>2591</th>\n",
              "      <td>['Psychology']</td>\n",
              "      <td>377</td>\n",
              "    </tr>\n",
              "    <tr>\n",
              "      <th>2867</th>\n",
              "      <td>['Travel']</td>\n",
              "      <td>375</td>\n",
              "    </tr>\n",
              "    <tr>\n",
              "      <th>2631</th>\n",
              "      <td>['Reference']</td>\n",
              "      <td>346</td>\n",
              "    </tr>\n",
              "    <tr>\n",
              "      <th>2495</th>\n",
              "      <td>['Performing Arts']</td>\n",
              "      <td>333</td>\n",
              "    </tr>\n",
              "    <tr>\n",
              "      <th>2387</th>\n",
              "      <td>['Nature']</td>\n",
              "      <td>330</td>\n",
              "    </tr>\n",
              "    <tr>\n",
              "      <th>1285</th>\n",
              "      <td>['Crafts &amp; Hobbies']</td>\n",
              "      <td>315</td>\n",
              "    </tr>\n",
              "    <tr>\n",
              "      <th>2509</th>\n",
              "      <td>['Philosophy']</td>\n",
              "      <td>312</td>\n",
              "    </tr>\n",
              "    <tr>\n",
              "      <th>1139</th>\n",
              "      <td>['Comics &amp; Graphic Novels']</td>\n",
              "      <td>293</td>\n",
              "    </tr>\n",
              "    <tr>\n",
              "      <th>1472</th>\n",
              "      <td>['Drama']</td>\n",
              "      <td>278</td>\n",
              "    </tr>\n",
              "    <tr>\n",
              "      <th>2153</th>\n",
              "      <td>['Language Arts &amp; Disciplines']</td>\n",
              "      <td>275</td>\n",
              "    </tr>\n",
              "    <tr>\n",
              "      <th>2785</th>\n",
              "      <td>['Sports &amp; Recreation']</td>\n",
              "      <td>267</td>\n",
              "    </tr>\n",
              "    <tr>\n",
              "      <th>2547</th>\n",
              "      <td>['Political Science']</td>\n",
              "      <td>260</td>\n",
              "    </tr>\n",
              "    <tr>\n",
              "      <th>2874</th>\n",
              "      <td>['True Crime']</td>\n",
              "      <td>258</td>\n",
              "    </tr>\n",
              "    <tr>\n",
              "      <th>2366</th>\n",
              "      <td>['Music']</td>\n",
              "      <td>220</td>\n",
              "    </tr>\n",
              "    <tr>\n",
              "      <th>2503</th>\n",
              "      <td>['Pets']</td>\n",
              "      <td>216</td>\n",
              "    </tr>\n",
              "    <tr>\n",
              "      <th>1802</th>\n",
              "      <td>['Gardening']</td>\n",
              "      <td>214</td>\n",
              "    </tr>\n",
              "    <tr>\n",
              "      <th>1522</th>\n",
              "      <td>['Education']</td>\n",
              "      <td>202</td>\n",
              "    </tr>\n",
              "    <tr>\n",
              "      <th>2197</th>\n",
              "      <td>['Literary Collections']</td>\n",
              "      <td>169</td>\n",
              "    </tr>\n",
              "  </tbody>\n",
              "</table>\n",
              "</div>"
            ],
            "text/plain": [
              "                             Category     nb\n",
              "1711                      ['Fiction']  24200\n",
              "2120             ['Juvenile Fiction']   4060\n",
              "673     ['Biography & Autobiography']   2100\n",
              "1939                      ['History']   1239\n",
              "2638                     ['Religion']   1117\n",
              "2121          ['Juvenile Nonfiction']   1012\n",
              "2010                        ['Humor']    870\n",
              "1242                      ['Cooking']    801\n",
              "2755               ['Social Science']    797\n",
              "730           ['Body, Mind & Spirit']    782\n",
              "1902             ['Health & Fitness']    625\n",
              "829          ['Business & Economics']    615\n",
              "1657       ['Family & Relationships']    601\n",
              "413                           ['Art']    410\n",
              "1180                    ['Computers']    410\n",
              "2540                       ['Poetry']    406\n",
              "2705                    ['Self-Help']    399\n",
              "2696                      ['Science']    395\n",
              "2198           ['Literary Criticism']    394\n",
              "2591                   ['Psychology']    377\n",
              "2867                       ['Travel']    375\n",
              "2631                    ['Reference']    346\n",
              "2495              ['Performing Arts']    333\n",
              "2387                       ['Nature']    330\n",
              "1285             ['Crafts & Hobbies']    315\n",
              "2509                   ['Philosophy']    312\n",
              "1139      ['Comics & Graphic Novels']    293\n",
              "1472                        ['Drama']    278\n",
              "2153  ['Language Arts & Disciplines']    275\n",
              "2785          ['Sports & Recreation']    267\n",
              "2547            ['Political Science']    260\n",
              "2874                   ['True Crime']    258\n",
              "2366                        ['Music']    220\n",
              "2503                         ['Pets']    216\n",
              "1802                    ['Gardening']    214\n",
              "1522                    ['Education']    202\n",
              "2197         ['Literary Collections']    169"
            ]
          },
          "metadata": {
            "tags": []
          },
          "execution_count": 4
        }
      ]
    },
    {
      "cell_type": "code",
      "metadata": {
        "id": "KPJ2DIDph472"
      },
      "source": [
        ""
      ],
      "execution_count": null,
      "outputs": []
    },
    {
      "cell_type": "code",
      "metadata": {
        "colab": {
          "base_uri": "https://localhost:8080/"
        },
        "id": "qm1jLHnooFLc",
        "outputId": "f3dba503-1905-45e4-9fab-70849131f0b9"
      },
      "source": [
        "print(books_data2.shape,books_rat2[\"ISBN\"].nunique(),books_rat2[\"User-ID\"].nunique(),users.shape)"
      ],
      "execution_count": null,
      "outputs": [
        {
          "output_type": "stream",
          "text": [
            "(55031, 13) 55031 2563 (2563, 3)\n"
          ],
          "name": "stdout"
        }
      ]
    },
    {
      "cell_type": "code",
      "metadata": {
        "id": "lfriGn0nH12G"
      },
      "source": [
        ""
      ],
      "execution_count": null,
      "outputs": []
    },
    {
      "cell_type": "code",
      "metadata": {
        "id": "EsYEbittpmw4",
        "colab": {
          "base_uri": "https://localhost:8080/",
          "height": 17
        },
        "outputId": "57bb733f-bc9e-4160-f859-295150d17241"
      },
      "source": [
        "#save book dataset\n",
        "books_data2.to_csv(\"books_data_final.csv\")\n",
        "files.download(\"books_data_final.csv\")\n",
        "\n",
        "pickle_out=open(\"books_data_final.pickle\",\"wb\")\n",
        "pickle.dump(books_data2,pickle_out)\n",
        "pickle_out.close()\n"
      ],
      "execution_count": null,
      "outputs": [
        {
          "output_type": "display_data",
          "data": {
            "application/javascript": [
              "\n",
              "    async function download(id, filename, size) {\n",
              "      if (!google.colab.kernel.accessAllowed) {\n",
              "        return;\n",
              "      }\n",
              "      const div = document.createElement('div');\n",
              "      const label = document.createElement('label');\n",
              "      label.textContent = `Downloading \"${filename}\": `;\n",
              "      div.appendChild(label);\n",
              "      const progress = document.createElement('progress');\n",
              "      progress.max = size;\n",
              "      div.appendChild(progress);\n",
              "      document.body.appendChild(div);\n",
              "\n",
              "      const buffers = [];\n",
              "      let downloaded = 0;\n",
              "\n",
              "      const channel = await google.colab.kernel.comms.open(id);\n",
              "      // Send a message to notify the kernel that we're ready.\n",
              "      channel.send({})\n",
              "\n",
              "      for await (const message of channel.messages) {\n",
              "        // Send a message to notify the kernel that we're ready.\n",
              "        channel.send({})\n",
              "        if (message.buffers) {\n",
              "          for (const buffer of message.buffers) {\n",
              "            buffers.push(buffer);\n",
              "            downloaded += buffer.byteLength;\n",
              "            progress.value = downloaded;\n",
              "          }\n",
              "        }\n",
              "      }\n",
              "      const blob = new Blob(buffers, {type: 'application/binary'});\n",
              "      const a = document.createElement('a');\n",
              "      a.href = window.URL.createObjectURL(blob);\n",
              "      a.download = filename;\n",
              "      div.appendChild(a);\n",
              "      a.click();\n",
              "      div.remove();\n",
              "    }\n",
              "  "
            ],
            "text/plain": [
              "<IPython.core.display.Javascript object>"
            ]
          },
          "metadata": {
            "tags": []
          }
        },
        {
          "output_type": "display_data",
          "data": {
            "application/javascript": [
              "download(\"download_c690cd66-c4ea-4cb3-96fb-c015c13dff20\", \"books_data_final.csv\", 26508401)"
            ],
            "text/plain": [
              "<IPython.core.display.Javascript object>"
            ]
          },
          "metadata": {
            "tags": []
          }
        }
      ]
    },
    {
      "cell_type": "code",
      "metadata": {
        "id": "891tmNetH-QB",
        "colab": {
          "base_uri": "https://localhost:8080/",
          "height": 17
        },
        "outputId": "994b55b3-f301-4900-cbaa-f0339e8463e0"
      },
      "source": [
        "\n",
        "#save rating dataset\n",
        "books_rat2.to_csv(\"books_rating_final.csv\")\n",
        "files.download(\"books_rating_final.csv\")\n",
        "\n",
        "pickle_out=open(\"books_rating_final.pickle\",\"wb\")\n",
        "pickle.dump(books_rat2,pickle_out)\n",
        "pickle_out.close()"
      ],
      "execution_count": null,
      "outputs": [
        {
          "output_type": "display_data",
          "data": {
            "application/javascript": [
              "\n",
              "    async function download(id, filename, size) {\n",
              "      if (!google.colab.kernel.accessAllowed) {\n",
              "        return;\n",
              "      }\n",
              "      const div = document.createElement('div');\n",
              "      const label = document.createElement('label');\n",
              "      label.textContent = `Downloading \"${filename}\": `;\n",
              "      div.appendChild(label);\n",
              "      const progress = document.createElement('progress');\n",
              "      progress.max = size;\n",
              "      div.appendChild(progress);\n",
              "      document.body.appendChild(div);\n",
              "\n",
              "      const buffers = [];\n",
              "      let downloaded = 0;\n",
              "\n",
              "      const channel = await google.colab.kernel.comms.open(id);\n",
              "      // Send a message to notify the kernel that we're ready.\n",
              "      channel.send({})\n",
              "\n",
              "      for await (const message of channel.messages) {\n",
              "        // Send a message to notify the kernel that we're ready.\n",
              "        channel.send({})\n",
              "        if (message.buffers) {\n",
              "          for (const buffer of message.buffers) {\n",
              "            buffers.push(buffer);\n",
              "            downloaded += buffer.byteLength;\n",
              "            progress.value = downloaded;\n",
              "          }\n",
              "        }\n",
              "      }\n",
              "      const blob = new Blob(buffers, {type: 'application/binary'});\n",
              "      const a = document.createElement('a');\n",
              "      a.href = window.URL.createObjectURL(blob);\n",
              "      a.download = filename;\n",
              "      div.appendChild(a);\n",
              "      a.click();\n",
              "      div.remove();\n",
              "    }\n",
              "  "
            ],
            "text/plain": [
              "<IPython.core.display.Javascript object>"
            ]
          },
          "metadata": {
            "tags": []
          }
        },
        {
          "output_type": "display_data",
          "data": {
            "application/javascript": [
              "download(\"download_b5a7f63f-def9-4de9-84bc-5dff70289c6d\", \"books_rating_final.csv\", 3054172)"
            ],
            "text/plain": [
              "<IPython.core.display.Javascript object>"
            ]
          },
          "metadata": {
            "tags": []
          }
        }
      ]
    },
    {
      "cell_type": "code",
      "metadata": {
        "id": "V-VZESS6H-Y2",
        "colab": {
          "base_uri": "https://localhost:8080/",
          "height": 17
        },
        "outputId": "eb25f66d-7a4e-45c1-a53a-9a5ece77d5c7"
      },
      "source": [
        "#save user dataset\n",
        "users.to_csv(\"users_final.csv\")\n",
        "files.download(\"users_final.csv\")\n",
        "\n",
        "pickle_out=open(\"users_final.pickle\",\"wb\")\n",
        "pickle.dump(users,pickle_out)\n",
        "pickle_out.close()"
      ],
      "execution_count": null,
      "outputs": [
        {
          "output_type": "display_data",
          "data": {
            "application/javascript": [
              "\n",
              "    async function download(id, filename, size) {\n",
              "      if (!google.colab.kernel.accessAllowed) {\n",
              "        return;\n",
              "      }\n",
              "      const div = document.createElement('div');\n",
              "      const label = document.createElement('label');\n",
              "      label.textContent = `Downloading \"${filename}\": `;\n",
              "      div.appendChild(label);\n",
              "      const progress = document.createElement('progress');\n",
              "      progress.max = size;\n",
              "      div.appendChild(progress);\n",
              "      document.body.appendChild(div);\n",
              "\n",
              "      const buffers = [];\n",
              "      let downloaded = 0;\n",
              "\n",
              "      const channel = await google.colab.kernel.comms.open(id);\n",
              "      // Send a message to notify the kernel that we're ready.\n",
              "      channel.send({})\n",
              "\n",
              "      for await (const message of channel.messages) {\n",
              "        // Send a message to notify the kernel that we're ready.\n",
              "        channel.send({})\n",
              "        if (message.buffers) {\n",
              "          for (const buffer of message.buffers) {\n",
              "            buffers.push(buffer);\n",
              "            downloaded += buffer.byteLength;\n",
              "            progress.value = downloaded;\n",
              "          }\n",
              "        }\n",
              "      }\n",
              "      const blob = new Blob(buffers, {type: 'application/binary'});\n",
              "      const a = document.createElement('a');\n",
              "      a.href = window.URL.createObjectURL(blob);\n",
              "      a.download = filename;\n",
              "      div.appendChild(a);\n",
              "      a.click();\n",
              "      div.remove();\n",
              "    }\n",
              "  "
            ],
            "text/plain": [
              "<IPython.core.display.Javascript object>"
            ]
          },
          "metadata": {
            "tags": []
          }
        },
        {
          "output_type": "display_data",
          "data": {
            "application/javascript": [
              "download(\"download_ea12fb54-25fd-46c6-876b-d505c253d3ce\", \"users_final.csv\", 111346)"
            ],
            "text/plain": [
              "<IPython.core.display.Javascript object>"
            ]
          },
          "metadata": {
            "tags": []
          }
        }
      ]
    },
    {
      "cell_type": "code",
      "metadata": {
        "colab": {
          "base_uri": "https://localhost:8080/"
        },
        "id": "pvdHyHMLQHw9",
        "outputId": "42196391-1a7d-41be-a5f5-beaee94ee9b1"
      },
      "source": [
        "list(books_rat2.columns)"
      ],
      "execution_count": null,
      "outputs": [
        {
          "output_type": "execute_result",
          "data": {
            "text/plain": [
              "['User-ID', 'ISBN', 'Book-Rating']"
            ]
          },
          "metadata": {
            "tags": []
          },
          "execution_count": 57
        }
      ]
    },
    {
      "cell_type": "code",
      "metadata": {
        "id": "JxzYuAlfIh9q"
      },
      "source": [
        ""
      ],
      "execution_count": null,
      "outputs": []
    },
    {
      "cell_type": "code",
      "metadata": {
        "id": "9oLfCEo-h8Ah"
      },
      "source": [
        ""
      ],
      "execution_count": null,
      "outputs": []
    }
  ]
}