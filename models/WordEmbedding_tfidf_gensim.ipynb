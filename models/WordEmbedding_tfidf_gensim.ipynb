{
  "nbformat": 4,
  "nbformat_minor": 0,
  "metadata": {
    "colab": {
      "name": "WordEmbedding_tfidf-gensim.ipynb",
      "provenance": [],
      "collapsed_sections": []
    },
    "kernelspec": {
      "name": "python3",
      "display_name": "Python 3"
    },
    "language_info": {
      "name": "python"
    }
  },
  "cells": [
    {
      "cell_type": "code",
      "metadata": {
        "id": "3iCcRgIZNZ09"
      },
      "source": [
        "#computes cosine similarities between word embeddings to find most similaire books \n",
        "#tfidf pour regler le probleme des grande valeur pour le mot qui ne sont pas important\n",
        "#on a utilisé l'autre car cette methode n'a pas donnée les meilleur resultat \n"
      ],
      "execution_count": null,
      "outputs": []
    },
    {
      "cell_type": "code",
      "metadata": {
        "id": "Y3DZHiwo4jxa",
        "colab": {
          "base_uri": "https://localhost:8080/"
        },
        "outputId": "dee1c077-10af-46d2-dd4f-3f6e9413b659"
      },
      "source": [
        "!pip install kaggle\n",
        "!pip install nltk"
      ],
      "execution_count": null,
      "outputs": [
        {
          "output_type": "stream",
          "text": [
            "Requirement already satisfied: kaggle in /usr/local/lib/python3.7/dist-packages (1.5.12)\n",
            "Requirement already satisfied: urllib3 in /usr/local/lib/python3.7/dist-packages (from kaggle) (1.24.3)\n",
            "Requirement already satisfied: tqdm in /usr/local/lib/python3.7/dist-packages (from kaggle) (4.41.1)\n",
            "Requirement already satisfied: python-dateutil in /usr/local/lib/python3.7/dist-packages (from kaggle) (2.8.1)\n",
            "Requirement already satisfied: python-slugify in /usr/local/lib/python3.7/dist-packages (from kaggle) (5.0.2)\n",
            "Requirement already satisfied: six>=1.10 in /usr/local/lib/python3.7/dist-packages (from kaggle) (1.15.0)\n",
            "Requirement already satisfied: certifi in /usr/local/lib/python3.7/dist-packages (from kaggle) (2020.12.5)\n",
            "Requirement already satisfied: requests in /usr/local/lib/python3.7/dist-packages (from kaggle) (2.23.0)\n",
            "Requirement already satisfied: text-unidecode>=1.3 in /usr/local/lib/python3.7/dist-packages (from python-slugify->kaggle) (1.3)\n",
            "Requirement already satisfied: chardet<4,>=3.0.2 in /usr/local/lib/python3.7/dist-packages (from requests->kaggle) (3.0.4)\n",
            "Requirement already satisfied: idna<3,>=2.5 in /usr/local/lib/python3.7/dist-packages (from requests->kaggle) (2.10)\n",
            "Requirement already satisfied: nltk in /usr/local/lib/python3.7/dist-packages (3.2.5)\n",
            "Requirement already satisfied: six in /usr/local/lib/python3.7/dist-packages (from nltk) (1.15.0)\n"
          ],
          "name": "stdout"
        }
      ]
    },
    {
      "cell_type": "code",
      "metadata": {
        "colab": {
          "resources": {
            "http://localhost:8080/nbextensions/google.colab/files.js": {
              "data": "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",
              "ok": true,
              "headers": [
                [
                  "content-type",
                  "application/javascript"
                ]
              ],
              "status": 200,
              "status_text": ""
            }
          },
          "base_uri": "https://localhost:8080/",
          "height": 89
        },
        "id": "19sxtRDv4mQA",
        "outputId": "7f814a01-c3f8-4918-b506-95372952a9a8"
      },
      "source": [
        "from google.colab import files\n",
        "files.upload()"
      ],
      "execution_count": null,
      "outputs": [
        {
          "output_type": "display_data",
          "data": {
            "text/html": [
              "\n",
              "     <input type=\"file\" id=\"files-54136e04-7e7f-466c-843b-c97bf3c03d5d\" name=\"files[]\" multiple disabled\n",
              "        style=\"border:none\" />\n",
              "     <output id=\"result-54136e04-7e7f-466c-843b-c97bf3c03d5d\">\n",
              "      Upload widget is only available when the cell has been executed in the\n",
              "      current browser session. Please rerun this cell to enable.\n",
              "      </output>\n",
              "      <script src=\"/nbextensions/google.colab/files.js\"></script> "
            ],
            "text/plain": [
              "<IPython.core.display.HTML object>"
            ]
          },
          "metadata": {
            "tags": []
          }
        },
        {
          "output_type": "stream",
          "text": [
            "Saving kaggle.json to kaggle.json\n"
          ],
          "name": "stdout"
        },
        {
          "output_type": "execute_result",
          "data": {
            "text/plain": [
              "{'kaggle.json': b'{\"username\":\"abdramdani\",\"key\":\"0850d17ece69fcc4d3fdbf3d1fa789d4\"}'}"
            ]
          },
          "metadata": {
            "tags": []
          },
          "execution_count": 2
        }
      ]
    },
    {
      "cell_type": "code",
      "metadata": {
        "id": "z27QpT994mSr"
      },
      "source": [
        "! mkdir ~/.kaggle\n",
        "! cp kaggle.json ~/.kaggle/\n",
        "\n",
        "! chmod 600 ~/.kaggle/kaggle.json"
      ],
      "execution_count": null,
      "outputs": []
    },
    {
      "cell_type": "code",
      "metadata": {
        "colab": {
          "base_uri": "https://localhost:8080/"
        },
        "id": "vMfflhe74mVY",
        "outputId": "50367a66-4552-4692-ed75-c8b676ffd47f"
      },
      "source": [
        "#data set api \n",
        "!kaggle datasets download -d ruchi798/bookcrossing-dataset"
      ],
      "execution_count": null,
      "outputs": [
        {
          "output_type": "stream",
          "text": [
            "Downloading bookcrossing-dataset.zip to /content\n",
            " 80% 61.0M/76.1M [00:00<00:00, 77.9MB/s]\n",
            "100% 76.1M/76.1M [00:00<00:00, 120MB/s] \n"
          ],
          "name": "stdout"
        }
      ]
    },
    {
      "cell_type": "code",
      "metadata": {
        "colab": {
          "base_uri": "https://localhost:8080/"
        },
        "id": "UBF4SX1s4mXo",
        "outputId": "75c9c95b-d912-4c8b-9272-811d66bd7a17"
      },
      "source": [
        "#code to extract bookcrossing-dataset.zip\n",
        "from zipfile import ZipFile\n",
        "file_name=\"bookcrossing-dataset.zip\"\n",
        "with ZipFile(file_name,'r') as zip:\n",
        "  zip.extractall()\n",
        "  print(\"done\")"
      ],
      "execution_count": null,
      "outputs": [
        {
          "output_type": "stream",
          "text": [
            "done\n"
          ],
          "name": "stdout"
        }
      ]
    },
    {
      "cell_type": "code",
      "metadata": {
        "id": "qwqQFHpM4maP"
      },
      "source": [
        "#import \n",
        "import pandas as pd\n",
        "import numpy as np\n",
        "import matplotlib.pyplot as plt"
      ],
      "execution_count": null,
      "outputs": []
    },
    {
      "cell_type": "code",
      "metadata": {
        "id": "re9O1rpC4mcr",
        "colab": {
          "base_uri": "https://localhost:8080/"
        },
        "outputId": "f5d96026-4f22-4ccd-8297-b80aeeb8e8be"
      },
      "source": [
        "books_data=pd.read_csv(\"/content/Books Data with Category Language and Summary/Preprocessed_data.csv\",low_memory=False)\n",
        "books_rat=pd.read_csv(\"/content/Book reviews/Book reviews/BX-Book-Ratings.csv\",sep=';', encoding='latin-1',low_memory=False)\n",
        "\n",
        "books_data=books_data.rename(columns={\"isbn\":\"ISBN\"})\n",
        "print(books_data.shape,\"\\n\",list(books_data.columns))\n",
        "\n",
        "drop_c=['user_id','Unnamed: 0','age', 'location' , 'city', 'state', 'country']\n",
        "books_data=books_data.drop(drop_c,axis=1)\n",
        "\n",
        "books_data=books_data.drop_duplicates(subset=\"ISBN\")\n",
        "#on enleve les column avec l'erreur de 9 \n",
        "books_data=books_data[books_data[\"Summary\"]!=\"9\"]\n",
        "books_data=books_data[books_data[\"Category\"]!=\"9\"]\n",
        "books_data=books_data.drop_duplicates(subset=\"Summary\")\n",
        "books_data=books_data[books_data[\"Language\"]==\"en\"]\n",
        "print(books_data.shape)"
      ],
      "execution_count": null,
      "outputs": [
        {
          "output_type": "stream",
          "text": [
            "(1031175, 19) \n",
            " ['Unnamed: 0', 'user_id', 'location', 'age', 'ISBN', 'rating', 'book_title', 'book_author', 'year_of_publication', 'publisher', 'img_s', 'img_m', 'img_l', 'Summary', 'Language', 'Category', 'city', 'state', 'country']\n",
            "(130024, 12)\n"
          ],
          "name": "stdout"
        }
      ]
    },
    {
      "cell_type": "code",
      "metadata": {
        "id": "0rxIbbfA4mnE",
        "colab": {
          "base_uri": "https://localhost:8080/"
        },
        "outputId": "12810a4b-7cd5-4010-b208-e39f344d586b"
      },
      "source": [
        "#jajoute le average rating et la somme des ratting pour les livres\n",
        "#jenleve les rating =0 pour le calcule \n",
        "print(\"dataset des rating avant : \",books_rat.shape,books_rat[\"ISBN\"].nunique(),books_rat[\"User-ID\"].nunique())\n",
        "books_rat_nnul=books_rat[books_rat[\"Book-Rating\"]!=0]\n",
        "print(\"dataset des rating apres l'elimination des valeurs ==0 : \",books_rat_nnul.shape,books_rat_nnul[\"ISBN\"].nunique(),books_rat_nnul[\"User-ID\"].nunique())\n",
        "\n",
        "\n",
        "#average_rating\n",
        "average_book=pd.DataFrame(books_rat_nnul.groupby(\"ISBN\")[\"Book-Rating\"].mean()).reset_index().rename(columns={\"Book-Rating\":\"average_rating\"})\n",
        "#average_book.sort_values(by=\"average_rating\",ascending=False)\n",
        "\n",
        "books_data=pd.merge(books_data,average_book, on =\"ISBN\")\n",
        "\n",
        "#somme rating\n",
        "book_rating_Count=(books_rat_nnul.groupby(by=[\"ISBN\"])[\"Book-Rating\"].count().reset_index().\n",
        "                   rename(columns={\"Book-Rating\":\"SommeRating\"}))\n",
        "books_data=pd.merge(books_data,book_rating_Count, on =\"ISBN\")\n",
        "print(books_data.shape)\n",
        "#books_data"
      ],
      "execution_count": null,
      "outputs": [
        {
          "output_type": "stream",
          "text": [
            "dataset des rating avant :  (1149780, 3) 340556 105283\n",
            "dataset des rating apres l'elimination des valeurs ==0 :  (433671, 3) 185973 77805\n",
            "(75313, 14)\n"
          ],
          "name": "stdout"
        }
      ]
    },
    {
      "cell_type": "code",
      "metadata": {
        "colab": {
          "base_uri": "https://localhost:8080/"
        },
        "id": "2ppQm1e7VWLE",
        "outputId": "1343e922-3cb2-4b01-945d-0ffbbe91c3c1"
      },
      "source": [
        "#j'utilise que les rating sans les 0\n",
        "books_rating=pd.merge(books_rat_nnul,books_data[\"ISBN\"],on=\"ISBN\")\n",
        "print(books_rating.shape,books_rating.columns)"
      ],
      "execution_count": null,
      "outputs": [
        {
          "output_type": "stream",
          "text": [
            "(216994, 3) Index(['User-ID', 'ISBN', 'Book-Rating'], dtype='object')\n"
          ],
          "name": "stdout"
        }
      ]
    },
    {
      "cell_type": "code",
      "metadata": {
        "colab": {
          "base_uri": "https://localhost:8080/"
        },
        "id": "mwtm2nh7VWUF",
        "outputId": "b121dc96-7e42-451a-b4d9-e30a665189b7"
      },
      "source": [
        "#on prend un user avec > 15 ratting \n",
        "print(books_rating.shape,books_rating[\"User-ID\"].nunique(),books_rating[\"ISBN\"].nunique())\n",
        "#groupe1= books_rat_nnul[\"User-ID\"].value_counts()\n",
        "groupe1=pd.DataFrame(books_rating.groupby(\"User-ID\")[\"ISBN\"].count()).reset_index().rename(columns={\"ISBN\":\"Nb_book_rated\"})\n",
        "print(groupe1.shape)\n",
        "groupe1=groupe1.query(\"Nb_book_rated >=15\")\n",
        "print(groupe1.shape)\n",
        "books_rat2=pd.merge(books_rating,groupe1[\"User-ID\"], on =\"User-ID\",how=\"inner\")\n",
        "print(books_rat2.shape,books_rat2[\"User-ID\"].nunique(),books_rat2[\"ISBN\"].nunique())"
      ],
      "execution_count": null,
      "outputs": [
        {
          "output_type": "stream",
          "text": [
            "(216994, 3) 46174 75313\n",
            "(46174, 2)\n",
            "(2563, 2)\n",
            "(118186, 3) 2563 55049\n"
          ],
          "name": "stdout"
        }
      ]
    },
    {
      "cell_type": "code",
      "metadata": {
        "colab": {
          "base_uri": "https://localhost:8080/"
        },
        "id": "LQ2qVjcNVWnK",
        "outputId": "31342761-05d2-493d-d09a-74ca54e4ffe3"
      },
      "source": [
        "#je prends les livres qui existe dans books_rat2\n",
        "books_rat_isbn=books_rat2.drop_duplicates(subset=\"ISBN\")\n",
        "print(books_rat_isbn.shape)\n",
        "books_data2=pd.merge(books_data,books_rat_isbn[\"ISBN\"], on =\"ISBN\",how=\"inner\")\n",
        "print(books_data2.shape,books_rat2[\"ISBN\"].nunique())\n",
        "\n"
      ],
      "execution_count": null,
      "outputs": [
        {
          "output_type": "stream",
          "text": [
            "(55049, 3)\n",
            "(55049, 14) 55049\n"
          ],
          "name": "stdout"
        }
      ]
    },
    {
      "cell_type": "code",
      "metadata": {
        "id": "og0XHJcQWOPy",
        "colab": {
          "base_uri": "https://localhost:8080/"
        },
        "outputId": "b2ce0a70-02f5-447c-a828-275c2cfe273f"
      },
      "source": [
        "print(books_data2.shape,books_rat2[\"User-ID\"].nunique(),books_rat2[\"ISBN\"].nunique())"
      ],
      "execution_count": null,
      "outputs": [
        {
          "output_type": "stream",
          "text": [
            "(55049, 14) 2563 55049\n"
          ],
          "name": "stdout"
        }
      ]
    },
    {
      "cell_type": "code",
      "metadata": {
        "id": "GqJUAzdH3am-"
      },
      "source": [
        "\"\"\"#or import the readdy dataset \n",
        "import pickle\n",
        "\n",
        "pickle_in=open(\"/content/books_data_final.pickle\",\"rb\")\n",
        "books_data2=pickle.load(pickle_in)\"\"\""
      ],
      "execution_count": null,
      "outputs": []
    },
    {
      "cell_type": "code",
      "metadata": {
        "id": "O2HgThiR4n2x",
        "colab": {
          "base_uri": "https://localhost:8080/"
        },
        "outputId": "c577a7f9-7877-471d-c7ed-e3110855012b"
      },
      "source": [
        "#importation de nltk \n",
        "import nltk\n",
        "from nltk.corpus import stopwords\n",
        "from nltk.tokenize import word_tokenize\n",
        "from nltk.stem import PorterStemmer\n",
        "from nltk.stem.wordnet import WordNetLemmatizer #\n",
        "\n",
        "nltk.download('stopwords')\n",
        "nltk.download('punkt')\n",
        "nltk.download('wordnet') #\n",
        "stop_words = stopwords.words('english')\n"
      ],
      "execution_count": null,
      "outputs": [
        {
          "output_type": "stream",
          "text": [
            "[nltk_data] Downloading package stopwords to /root/nltk_data...\n",
            "[nltk_data]   Unzipping corpora/stopwords.zip.\n",
            "[nltk_data] Downloading package punkt to /root/nltk_data...\n",
            "[nltk_data]   Unzipping tokenizers/punkt.zip.\n",
            "[nltk_data] Downloading package wordnet to /root/nltk_data...\n",
            "[nltk_data]   Unzipping corpora/wordnet.zip.\n"
          ],
          "name": "stdout"
        }
      ]
    },
    {
      "cell_type": "code",
      "metadata": {
        "id": "XL2duxto0bf2",
        "colab": {
          "base_uri": "https://localhost:8080/"
        },
        "outputId": "868ec3ff-d799-4a5a-d6dd-8951b412809f"
      },
      "source": [
        "#tokenizatoin \n",
        "def tok(text):\n",
        "  return word_tokenize(str(text))\n",
        "print(tok(\"Hello World \"))\n"
      ],
      "execution_count": null,
      "outputs": [
        {
          "output_type": "stream",
          "text": [
            "['Hello', 'World']\n"
          ],
          "name": "stdout"
        }
      ]
    },
    {
      "cell_type": "code",
      "metadata": {
        "id": "BX9UIfEbvIl9"
      },
      "source": [
        "#on enleve les ponctuation \n",
        "def enleve_ponct(text):\n",
        "  #symbols = \"!\\\"#$%&()*+-./:;<=>?@[\\]^_`{|}~\\n\"\n",
        "  symbols = \"!\\\"0123456789#$%&()*+-./:;<=>?@[\\]^_`{|}~\\n\"\n",
        "  for i in range(len(symbols)):\n",
        "      text = np.char.replace(text, symbols[i], ' ')\n",
        "      text = np.char.replace(text, \"  \", \" \")\n",
        "  text = np.char.replace(text, ',', '')\n",
        "  return str(text)\n"
      ],
      "execution_count": null,
      "outputs": []
    },
    {
      "cell_type": "code",
      "metadata": {
        "id": "O-EmI1Z2uzby"
      },
      "source": [
        "# le text en miniscule \n",
        "def miniscule(text):\n",
        "  #return str(np.char.lower(text))\n",
        "  return text.lower() \n"
      ],
      "execution_count": null,
      "outputs": []
    },
    {
      "cell_type": "code",
      "metadata": {
        "id": "TJoH7p9luzkt"
      },
      "source": [
        "#stop words\n",
        "def remove_stop_words(text):\n",
        "  #stop_words = stopwords.words('english')\n",
        "  words = word_tokenize(str(text))\n",
        "  new_text = \"\"\n",
        "  for w in words:\n",
        "    if w not in stop_words and len(w) > 1:\n",
        "      new_text = new_text + \" \" + w\n",
        "  return new_text\n"
      ],
      "execution_count": null,
      "outputs": []
    },
    {
      "cell_type": "code",
      "metadata": {
        "id": "WFd_38mTuzsI"
      },
      "source": [
        "#Stemming connection connected ... -> connect \n",
        "def stemm(text):\n",
        "  ps=PorterStemmer()\n",
        "  new_text=\"\"\n",
        "  words=word_tokenize(str(text))\n",
        "  for word in words:\n",
        "    new_text=new_text+\" \"+ps.stem(word)\n",
        "  return new_text\n"
      ],
      "execution_count": null,
      "outputs": []
    },
    {
      "cell_type": "code",
      "metadata": {
        "id": "1WdSvfN22L6x"
      },
      "source": [
        "#Lemmatization\n",
        "def lemm(text):\n",
        "  lem = WordNetLemmatizer()\n",
        "  new_text=\"\"\n",
        "  words=word_tokenize(str(text))\n",
        "  for word in words:\n",
        "    new_text=new_text+\" \"+lem.lemmatize(word,\"v\")\n",
        "  return new_text\n"
      ],
      "execution_count": null,
      "outputs": []
    },
    {
      "cell_type": "code",
      "metadata": {
        "id": "yaknq1u84n6i"
      },
      "source": [
        "def preprocess(row):\n",
        "  text=row[\"Summary\"]\n",
        "  text=enleve_ponct(text)\n",
        "  text=miniscule(text)\n",
        "  #text=stemm(text)\n",
        "  text=remove_stop_words(text)\n",
        "  text=tok(text)\n",
        "  #text=stemm(text)\n",
        "  #text=lemm(text)\n",
        "\n",
        "  return text"
      ],
      "execution_count": null,
      "outputs": []
    },
    {
      "cell_type": "code",
      "metadata": {
        "id": "plEZ8cfi4oHV"
      },
      "source": [
        "books_test=books_data2"
      ],
      "execution_count": null,
      "outputs": []
    },
    {
      "cell_type": "code",
      "metadata": {
        "id": "sm14p--Q4oJ0"
      },
      "source": [
        "books_test[\"Text\"]=books_test.apply(preprocess,axis=1) # elle prend +2mn \n",
        "#donc je vais directement ajouter cette column a mon dataset plus tard \n",
        "\n",
        "\n"
      ],
      "execution_count": null,
      "outputs": []
    },
    {
      "cell_type": "code",
      "metadata": {
        "id": "z4H5PTc5xFW8",
        "colab": {
          "base_uri": "https://localhost:8080/"
        },
        "outputId": "9c8cda49-6e57-43c9-e67c-950af2a0affd"
      },
      "source": [
        "books_test.shape"
      ],
      "execution_count": null,
      "outputs": [
        {
          "output_type": "execute_result",
          "data": {
            "text/plain": [
              "(55049, 15)"
            ]
          },
          "metadata": {
            "tags": []
          },
          "execution_count": 30
        }
      ]
    },
    {
      "cell_type": "code",
      "metadata": {
        "id": "f9hD1-w_JaCs",
        "colab": {
          "base_uri": "https://localhost:8080/"
        },
        "outputId": "c1de7322-ae3e-4d31-98ea-8150bc1b2b1c"
      },
      "source": [
        "#!pip install gensim\n",
        "!pip install --upgrade gensim #pour la version 4.0.1\n"
      ],
      "execution_count": null,
      "outputs": [
        {
          "output_type": "stream",
          "text": [
            "Collecting gensim\n",
            "\u001b[?25l  Downloading https://files.pythonhosted.org/packages/44/52/f1417772965652d4ca6f901515debcd9d6c5430969e8c02ee7737e6de61c/gensim-4.0.1-cp37-cp37m-manylinux1_x86_64.whl (23.9MB)\n",
            "\u001b[K     |████████████████████████████████| 23.9MB 166kB/s \n",
            "\u001b[?25hRequirement already satisfied, skipping upgrade: numpy>=1.11.3 in /usr/local/lib/python3.7/dist-packages (from gensim) (1.19.5)\n",
            "Requirement already satisfied, skipping upgrade: scipy>=0.18.1 in /usr/local/lib/python3.7/dist-packages (from gensim) (1.4.1)\n",
            "Requirement already satisfied, skipping upgrade: smart-open>=1.8.1 in /usr/local/lib/python3.7/dist-packages (from gensim) (5.0.0)\n",
            "Installing collected packages: gensim\n",
            "  Found existing installation: gensim 3.6.0\n",
            "    Uninstalling gensim-3.6.0:\n",
            "      Successfully uninstalled gensim-3.6.0\n",
            "Successfully installed gensim-4.0.1\n"
          ],
          "name": "stdout"
        }
      ]
    },
    {
      "cell_type": "code",
      "metadata": {
        "id": "mXSREr63e4tg",
        "colab": {
          "base_uri": "https://localhost:8080/"
        },
        "outputId": "b1e8ef49-48a1-414e-ffb2-a30ff574a64f"
      },
      "source": [
        "import gensim\n",
        "print(gensim.__version__)\n"
      ],
      "execution_count": null,
      "outputs": [
        {
          "output_type": "stream",
          "text": [
            "4.0.1\n"
          ],
          "name": "stdout"
        },
        {
          "output_type": "stream",
          "text": [
            "/usr/local/lib/python3.7/dist-packages/gensim/similarities/__init__.py:15: UserWarning: The gensim.similarities.levenshtein submodule is disabled, because the optional Levenshtein package <https://pypi.org/project/python-Levenshtein/> is unavailable. Install Levenhstein (e.g. `pip install python-Levenshtein`) to suppress this warning.\n",
            "  warnings.warn(msg)\n"
          ],
          "name": "stderr"
        }
      ]
    },
    {
      "cell_type": "code",
      "metadata": {
        "id": "XFVGf4Jv4oMe",
        "colab": {
          "base_uri": "https://localhost:8080/"
        },
        "outputId": "c9e3f551-680e-4bdb-8a03-19d4bedfadef"
      },
      "source": [
        "import gensim.downloader as api \n",
        "model = api.load('word2vec-google-news-300')"
      ],
      "execution_count": null,
      "outputs": [
        {
          "output_type": "stream",
          "text": [
            "[==================================================] 100.0% 1662.8/1662.8MB downloaded\n"
          ],
          "name": "stdout"
        }
      ]
    },
    {
      "cell_type": "code",
      "metadata": {
        "id": "r3FhZk4C4oO1"
      },
      "source": [
        "sentence =[x for x in books_test[\"Text\"]]\n",
        "#sentence = books_test[\"Text\"].tolist()"
      ],
      "execution_count": null,
      "outputs": []
    },
    {
      "cell_type": "code",
      "metadata": {
        "id": "QqCfuUu_4oRn"
      },
      "source": [
        "from gensim.corpora import Dictionary #bagofword\n",
        "dictionary = Dictionary(sentence) #to fit dictionary\n"
      ],
      "execution_count": null,
      "outputs": []
    },
    {
      "cell_type": "code",
      "metadata": {
        "id": "Oi4QUGg6Wr2u"
      },
      "source": [
        "def dic2boww(row , dictionary=dictionary):\n",
        "  return dictionary.doc2bow(row[\"Text\"])"
      ],
      "execution_count": null,
      "outputs": []
    },
    {
      "cell_type": "code",
      "metadata": {
        "id": "k4ILwakIWr6E"
      },
      "source": [
        "books_test[\"Text\"]=books_test.apply(dic2boww,axis=1) #to convert every sentence to bag of word format"
      ],
      "execution_count": null,
      "outputs": []
    },
    {
      "cell_type": "code",
      "metadata": {
        "id": "x4JrtWJaSnXO"
      },
      "source": [
        "from gensim.models import TfidfModel\n",
        "documents = [x for x in books_test[\"Text\"]]\n",
        "\n",
        "tfidf = TfidfModel(documents)"
      ],
      "execution_count": null,
      "outputs": []
    },
    {
      "cell_type": "code",
      "metadata": {
        "id": "hkM3cEC7bmWU"
      },
      "source": [
        "def tfidfff(row,tfidf=tfidf):\n",
        "  return tfidf[row[\"Text\"]]"
      ],
      "execution_count": null,
      "outputs": []
    },
    {
      "cell_type": "code",
      "metadata": {
        "id": "lZv5dh36cUxs"
      },
      "source": [
        "books_test[\"Text\"]=books_test.apply(tfidfff,axis=1)\n",
        "#A term similarity index that computes cosine similarities between word embeddings\n",
        "#on calcule le cosinus entre les wordembedding\n",
        "#trouver les word embedding les plus similaire \n",
        "#"
      ],
      "execution_count": null,
      "outputs": []
    },
    {
      "cell_type": "code",
      "metadata": {
        "id": "tl8LrtG5MY_y"
      },
      "source": [
        "dd=books_test[\"Text\"].tolist()"
      ],
      "execution_count": null,
      "outputs": []
    },
    {
      "cell_type": "code",
      "metadata": {
        "id": "7bOOLhqOcc5a",
        "colab": {
          "base_uri": "https://localhost:8080/"
        },
        "outputId": "50c0b748-29da-457d-b047-d72e5d462f49"
      },
      "source": [
        "from gensim.similarities import SparseTermSimilarityMatrix, WordEmbeddingSimilarityIndex\n",
        "termsim_index = WordEmbeddingSimilarityIndex(model)\n",
        "termsim_matrix = SparseTermSimilarityMatrix(termsim_index, dictionary, tfidf) #elle prend +4hr(4h12mn) mais sans le prob de la ram 5.13/12.69 utilisé"
      ],
      "execution_count": null,
      "outputs": [
        {
          "output_type": "stream",
          "text": [
            "100%|██████████| 55679/55679 [3:47:24<00:00,  4.08it/s]\n"
          ],
          "name": "stderr"
        }
      ]
    },
    {
      "cell_type": "code",
      "metadata": {
        "id": "7AW5K_3pIygw"
      },
      "source": [
        "from gensim.similarities import SoftCosineSimilarity #le calcule entre les vecteur avec le cosinus\n",
        "docsim_index = SoftCosineSimilarity(dd, termsim_matrix, num_best=10) #num_best (1+nombre de livre a recommandé)"
      ],
      "execution_count": null,
      "outputs": []
    },
    {
      "cell_type": "code",
      "metadata": {
        "colab": {
          "base_uri": "https://localhost:8080/",
          "height": 427
        },
        "id": "l2XAF-86Mp3y",
        "outputId": "4b8177bc-d9b5-4aa3-b3a6-5a7a7592c683"
      },
      "source": [
        "#on prends un livre \n",
        "x=np.random.randint(55049)\n",
        "test=books_test.iloc[x]\n",
        "sim=docsim_index[test[\"Text\"]]\n",
        "col=(\"ISBN\",\"rat\",\"sim\")\n",
        "array = np.empty((0,3))\n",
        "for i in range(0,10):\n",
        "  row=books_test.iloc[sim[i][0]]\n",
        "  array = np.append(array, np.array([[row[\"ISBN\"],row[\"average_rating\"],sim[i][1]]]), axis=0)\n",
        "df = pd.DataFrame(data=array, columns=col)\n",
        "#le premier c notre livre \n",
        "df.sort_values(\"sim\",ascending=False)\n"
      ],
      "execution_count": null,
      "outputs": [
        {
          "output_type": "stream",
          "text": [
            "/usr/local/lib/python3.7/dist-packages/gensim/similarities/termsim.py:359: RuntimeWarning: divide by zero encountered in true_divide\n",
            "  normalized_corpus = np.multiply(corpus, 1.0 / corpus_norm)\n",
            "/usr/local/lib/python3.7/dist-packages/gensim/similarities/termsim.py:359: RuntimeWarning: invalid value encountered in multiply\n",
            "  normalized_corpus = np.multiply(corpus, 1.0 / corpus_norm)\n"
          ],
          "name": "stderr"
        },
        {
          "output_type": "execute_result",
          "data": {
            "text/html": [
              "<div>\n",
              "<style scoped>\n",
              "    .dataframe tbody tr th:only-of-type {\n",
              "        vertical-align: middle;\n",
              "    }\n",
              "\n",
              "    .dataframe tbody tr th {\n",
              "        vertical-align: top;\n",
              "    }\n",
              "\n",
              "    .dataframe thead th {\n",
              "        text-align: right;\n",
              "    }\n",
              "</style>\n",
              "<table border=\"1\" class=\"dataframe\">\n",
              "  <thead>\n",
              "    <tr style=\"text-align: right;\">\n",
              "      <th></th>\n",
              "      <th>ISBN</th>\n",
              "      <th>rat</th>\n",
              "      <th>sim</th>\n",
              "    </tr>\n",
              "  </thead>\n",
              "  <tbody>\n",
              "    <tr>\n",
              "      <th>0</th>\n",
              "      <td>1893896323</td>\n",
              "      <td>2.0</td>\n",
              "      <td>1.0</td>\n",
              "    </tr>\n",
              "    <tr>\n",
              "      <th>1</th>\n",
              "      <td>0786860987</td>\n",
              "      <td>8.25</td>\n",
              "      <td>0.6360043883323669</td>\n",
              "    </tr>\n",
              "    <tr>\n",
              "      <th>2</th>\n",
              "      <td>0743423593</td>\n",
              "      <td>6.0</td>\n",
              "      <td>0.6348553895950317</td>\n",
              "    </tr>\n",
              "    <tr>\n",
              "      <th>3</th>\n",
              "      <td>0380973324</td>\n",
              "      <td>8.0</td>\n",
              "      <td>0.514671266078949</td>\n",
              "    </tr>\n",
              "    <tr>\n",
              "      <th>4</th>\n",
              "      <td>0843948817</td>\n",
              "      <td>8.0</td>\n",
              "      <td>0.40869927406311035</td>\n",
              "    </tr>\n",
              "    <tr>\n",
              "      <th>5</th>\n",
              "      <td>0684855283</td>\n",
              "      <td>8.0</td>\n",
              "      <td>0.40869924426078796</td>\n",
              "    </tr>\n",
              "    <tr>\n",
              "      <th>6</th>\n",
              "      <td>0425120430</td>\n",
              "      <td>6.8</td>\n",
              "      <td>0.3979695439338684</td>\n",
              "    </tr>\n",
              "    <tr>\n",
              "      <th>7</th>\n",
              "      <td>0425192113</td>\n",
              "      <td>9.5</td>\n",
              "      <td>0.3970581293106079</td>\n",
              "    </tr>\n",
              "    <tr>\n",
              "      <th>8</th>\n",
              "      <td>0688131379</td>\n",
              "      <td>9.0</td>\n",
              "      <td>0.3970315754413605</td>\n",
              "    </tr>\n",
              "    <tr>\n",
              "      <th>9</th>\n",
              "      <td>0425151468</td>\n",
              "      <td>5.0</td>\n",
              "      <td>0.39414432644844055</td>\n",
              "    </tr>\n",
              "  </tbody>\n",
              "</table>\n",
              "</div>"
            ],
            "text/plain": [
              "         ISBN   rat                  sim\n",
              "0  1893896323   2.0                  1.0\n",
              "1  0786860987  8.25   0.6360043883323669\n",
              "2  0743423593   6.0   0.6348553895950317\n",
              "3  0380973324   8.0    0.514671266078949\n",
              "4  0843948817   8.0  0.40869927406311035\n",
              "5  0684855283   8.0  0.40869924426078796\n",
              "6  0425120430   6.8   0.3979695439338684\n",
              "7  0425192113   9.5   0.3970581293106079\n",
              "8  0688131379   9.0   0.3970315754413605\n",
              "9  0425151468   5.0  0.39414432644844055"
            ]
          },
          "metadata": {
            "tags": []
          },
          "execution_count": 51
        }
      ]
    },
    {
      "cell_type": "code",
      "metadata": {
        "id": "wq9R0VfuNZG3"
      },
      "source": [
        "\"\"\"\n",
        "realnote=test[\"average_rating\"]\n",
        "note=0\n",
        "for i,row in aa.iloc[1:].iterrows():\n",
        "  note=note+float(row[\"rat\"])\n",
        "print(\"real note:\",realnote,\" la note estimé\",note/9)\n",
        "\n",
        "\"\"\""
      ],
      "execution_count": null,
      "outputs": []
    },
    {
      "cell_type": "code",
      "metadata": {
        "id": "vn5Ls4wdRBhW"
      },
      "source": [
        "from sklearn.model_selection import train_test_split"
      ],
      "execution_count": null,
      "outputs": []
    },
    {
      "cell_type": "code",
      "metadata": {
        "id": "KkFP86XqTyN6"
      },
      "source": [
        "test_data=books_test[0:5000]\n"
      ],
      "execution_count": null,
      "outputs": []
    },
    {
      "cell_type": "code",
      "metadata": {
        "id": "5tPUxb7QVLcR"
      },
      "source": [
        "def sim_valeur():\n",
        "\n",
        "\n",
        "  col2=(\"ISBN\",\"note\")\n",
        "  col=(\"ISBN\",\"rat\")\n",
        "  arr = np.empty((0,2))\n",
        "  for i,row in test_data.iterrows():\n",
        "    sim=docsim_index[row[\"Text\"]]\n",
        "    array = np.empty((0,2))\n",
        "    for i in range(0,10):\n",
        "      roww=books_test.iloc[sim[i][0]]\n",
        "      array = np.append(array, np.array([[roww[\"ISBN\"],roww[\"average_rating\"]]]), axis=0)\n",
        "    dff = pd.DataFrame(data=array, columns=col)\n",
        "    note=0\n",
        "    for i,roww in dff.iloc[1:].iterrows():\n",
        "      note=note+float(roww[\"rat\"])\n",
        "    note=note/9\n",
        "    arr = np.append(arr, np.array([[row[\"ISBN\"],note]]), axis=0)\n",
        "\n",
        "\n",
        "  df = pd.DataFrame(data=arr, columns=col2)\n",
        "  return df\n"
      ],
      "execution_count": null,
      "outputs": []
    },
    {
      "cell_type": "code",
      "metadata": {
        "id": "BZiw5bSfgeBo"
      },
      "source": [
        "a=sim_valeur()"
      ],
      "execution_count": null,
      "outputs": []
    },
    {
      "cell_type": "code",
      "metadata": {
        "id": "55cz8_n_yyAQ"
      },
      "source": [
        "#tfidf\n",
        "from sklearn.metrics import mean_absolute_error,mean_squared_error\n",
        "mean_absolute_error(test_data[\"average_rating\"], a[\"note\"])\n"
      ],
      "execution_count": null,
      "outputs": []
    },
    {
      "cell_type": "code",
      "metadata": {
        "colab": {
          "base_uri": "https://localhost:8080/"
        },
        "id": "usxEUVcbl25M",
        "outputId": "d235fe65-9c66-404c-857d-5e2bbd82333d"
      },
      "source": [
        "mean_squared_error(test_data[\"average_rating\"], a[\"note\"])"
      ],
      "execution_count": null,
      "outputs": [
        {
          "output_type": "execute_result",
          "data": {
            "text/plain": [
              "0.9485803134356411"
            ]
          },
          "metadata": {
            "tags": []
          },
          "execution_count": 97
        }
      ]
    },
    {
      "cell_type": "code",
      "metadata": {
        "id": "yMLGJYHn4spG"
      },
      "source": [
        "\"\"\"pickle_out=open(\"SoftCosineSimilarityWET2.pickle\",\"wb\")\n",
        "pickle.dump(docsim_index,pickle_out)\n",
        "pickle_out.close()\"\"\""
      ],
      "execution_count": null,
      "outputs": []
    },
    {
      "cell_type": "code",
      "metadata": {
        "id": "F0B276Y04sri"
      },
      "source": [
        "\"\"\"pickle_out=open(\"SparseTermSimilarityMatrixWET2.pickle\",\"wb\")\n",
        "pickle.dump(termsim_matrix,pickle_out)\n",
        "pickle_out.close()\"\"\""
      ],
      "execution_count": null,
      "outputs": []
    },
    {
      "cell_type": "code",
      "metadata": {
        "id": "7P6-lZW04suO"
      },
      "source": [
        ""
      ],
      "execution_count": null,
      "outputs": []
    }
  ]
}